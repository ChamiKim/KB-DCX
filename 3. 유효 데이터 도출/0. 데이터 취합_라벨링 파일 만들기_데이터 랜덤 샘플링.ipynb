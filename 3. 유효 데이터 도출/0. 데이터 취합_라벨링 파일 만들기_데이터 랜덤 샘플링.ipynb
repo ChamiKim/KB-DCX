{
 "cells": [
  {
   "cell_type": "markdown",
   "id": "387153df",
   "metadata": {},
   "source": [
    "## 데이터 취합_라벨링 파일 만들기_데이터 랜덤 샘플링\n",
    "- ref. https://zephyrus1111.tistory.com/49\n",
    "- \n",
    "- 코더1팀(차미/상훈/정은); 아프니까 사장이다, 브런치\n",
    "- 코더2팀(혜진/연수/채란); 셀러오션\n",
    "- 코더3팀(유빈/새연/다운); 지식인"
   ]
  },
  {
   "cell_type": "code",
   "execution_count": 1,
   "id": "18bbe1ac",
   "metadata": {},
   "outputs": [],
   "source": [
    "from pandas import DataFrame\n",
    "import pandas as pd\n",
    "import numpy as np\n",
    "import glob\n",
    "import os"
   ]
  },
  {
   "cell_type": "markdown",
   "id": "538a0398",
   "metadata": {},
   "source": [
    "### 브런치 파일 통합"
   ]
  },
  {
   "cell_type": "code",
   "execution_count": 2,
   "id": "010424ad",
   "metadata": {},
   "outputs": [],
   "source": [
    "brunch_list = glob.glob('*브런치*.csv')"
   ]
  },
  {
   "cell_type": "code",
   "execution_count": 3,
   "id": "092f0881",
   "metadata": {},
   "outputs": [
    {
     "name": "stdout",
     "output_type": "stream",
     "text": [
      "[KB]브런치_상훈_전처리_final.csv\n",
      "[KB]브런치_정은_전처리_final.csv\n",
      "[KB]브런치_차미_전처리_final.csv\n",
      "[KB]브런치_채널통합.csv\n",
      "브런치_라벨링.csv\n"
     ]
    }
   ],
   "source": [
    "dfs = []\n",
    "for file in brunch_list:\n",
    "    df = pd.read_csv(file)\n",
    "    print(file)\n",
    "    dfs.append(df) "
   ]
  },
  {
   "cell_type": "code",
   "execution_count": 4,
   "id": "8ed62d32",
   "metadata": {},
   "outputs": [
    {
     "name": "stdout",
     "output_type": "stream",
     "text": [
      "(25093, 5)\n"
     ]
    },
    {
     "data": {
      "text/html": [
       "<div>\n",
       "<style scoped>\n",
       "    .dataframe tbody tr th:only-of-type {\n",
       "        vertical-align: middle;\n",
       "    }\n",
       "\n",
       "    .dataframe tbody tr th {\n",
       "        vertical-align: top;\n",
       "    }\n",
       "\n",
       "    .dataframe thead th {\n",
       "        text-align: right;\n",
       "    }\n",
       "</style>\n",
       "<table border=\"1\" class=\"dataframe\">\n",
       "  <thead>\n",
       "    <tr style=\"text-align: right;\">\n",
       "      <th></th>\n",
       "      <th>Unnamed: 0</th>\n",
       "      <th>review</th>\n",
       "      <th>date</th>\n",
       "      <th>keyword</th>\n",
       "      <th>코더A</th>\n",
       "    </tr>\n",
       "  </thead>\n",
       "  <tbody>\n",
       "    <tr>\n",
       "      <th>0</th>\n",
       "      <td>18.0</td>\n",
       "      <td>프리패스  상황에 맞는 OOTD가 이렇게나 중요하다 택배박스도 보여주고 어디 ...</td>\n",
       "      <td>2023-09-15</td>\n",
       "      <td>무인</td>\n",
       "      <td>NaN</td>\n",
       "    </tr>\n",
       "    <tr>\n",
       "      <th>1</th>\n",
       "      <td>19.0</td>\n",
       "      <td>틈은 흠일까  지난 시간들을 돌이켜 보면 나는 원래 틈이 많은 사람이었다  손해를 ...</td>\n",
       "      <td>2023-09-14</td>\n",
       "      <td>무인</td>\n",
       "      <td>NaN</td>\n",
       "    </tr>\n",
       "    <tr>\n",
       "      <th>2</th>\n",
       "      <td>26.0</td>\n",
       "      <td>무인모텔     계속</td>\n",
       "      <td>2023-09-13</td>\n",
       "      <td>무인</td>\n",
       "      <td>NaN</td>\n",
       "    </tr>\n",
       "    <tr>\n",
       "      <th>3</th>\n",
       "      <td>27.0</td>\n",
       "      <td>무인문구점  그게 되겠어      아이가 생기고 나서는 주말은 온전히 아이를 위한 ...</td>\n",
       "      <td>2023-09-13</td>\n",
       "      <td>무인</td>\n",
       "      <td>NaN</td>\n",
       "    </tr>\n",
       "    <tr>\n",
       "      <th>4</th>\n",
       "      <td>91.0</td>\n",
       "      <td>무인키즈카페 창업일기  편  상가 인테리어 계약</td>\n",
       "      <td>2023-09-04</td>\n",
       "      <td>무인</td>\n",
       "      <td>NaN</td>\n",
       "    </tr>\n",
       "  </tbody>\n",
       "</table>\n",
       "</div>"
      ],
      "text/plain": [
       "   Unnamed: 0                                             review        date  \\\n",
       "0        18.0     프리패스  상황에 맞는 OOTD가 이렇게나 중요하다 택배박스도 보여주고 어디 ...  2023-09-15   \n",
       "1        19.0  틈은 흠일까  지난 시간들을 돌이켜 보면 나는 원래 틈이 많은 사람이었다  손해를 ...  2023-09-14   \n",
       "2        26.0                                       무인모텔     계속   2023-09-13   \n",
       "3        27.0  무인문구점  그게 되겠어      아이가 생기고 나서는 주말은 온전히 아이를 위한 ...  2023-09-13   \n",
       "4        91.0                      무인키즈카페 창업일기  편  상가 인테리어 계약     2023-09-04   \n",
       "\n",
       "  keyword  코더A  \n",
       "0      무인  NaN  \n",
       "1      무인  NaN  \n",
       "2      무인  NaN  \n",
       "3      무인  NaN  \n",
       "4      무인  NaN  "
      ]
     },
     "execution_count": 4,
     "metadata": {},
     "output_type": "execute_result"
    }
   ],
   "source": [
    "df_brunch = pd.concat(dfs, ignore_index = True)\n",
    "print(df_brunch.shape)\n",
    "df_brunch.head()"
   ]
  },
  {
   "cell_type": "code",
   "execution_count": 5,
   "id": "b13cc6dd",
   "metadata": {},
   "outputs": [],
   "source": [
    "df_brunch.drop(columns=['Unnamed: 0', 'date', 'keyword'], inplace=True)"
   ]
  },
  {
   "cell_type": "code",
   "execution_count": 6,
   "id": "e26032d7",
   "metadata": {},
   "outputs": [
    {
     "name": "stdout",
     "output_type": "stream",
     "text": [
      "(12093, 2)\n"
     ]
    },
    {
     "data": {
      "text/html": [
       "<div>\n",
       "<style scoped>\n",
       "    .dataframe tbody tr th:only-of-type {\n",
       "        vertical-align: middle;\n",
       "    }\n",
       "\n",
       "    .dataframe tbody tr th {\n",
       "        vertical-align: top;\n",
       "    }\n",
       "\n",
       "    .dataframe thead th {\n",
       "        text-align: right;\n",
       "    }\n",
       "</style>\n",
       "<table border=\"1\" class=\"dataframe\">\n",
       "  <thead>\n",
       "    <tr style=\"text-align: right;\">\n",
       "      <th></th>\n",
       "      <th>review</th>\n",
       "      <th>코더A</th>\n",
       "    </tr>\n",
       "  </thead>\n",
       "  <tbody>\n",
       "    <tr>\n",
       "      <th>0</th>\n",
       "      <td>프리패스  상황에 맞는 OOTD가 이렇게나 중요하다 택배박스도 보여주고 어디 ...</td>\n",
       "      <td>NaN</td>\n",
       "    </tr>\n",
       "    <tr>\n",
       "      <th>1</th>\n",
       "      <td>틈은 흠일까  지난 시간들을 돌이켜 보면 나는 원래 틈이 많은 사람이었다  손해를 ...</td>\n",
       "      <td>NaN</td>\n",
       "    </tr>\n",
       "    <tr>\n",
       "      <th>2</th>\n",
       "      <td>무인모텔     계속</td>\n",
       "      <td>NaN</td>\n",
       "    </tr>\n",
       "    <tr>\n",
       "      <th>3</th>\n",
       "      <td>무인문구점  그게 되겠어      아이가 생기고 나서는 주말은 온전히 아이를 위한 ...</td>\n",
       "      <td>NaN</td>\n",
       "    </tr>\n",
       "    <tr>\n",
       "      <th>4</th>\n",
       "      <td>무인키즈카페 창업일기  편  상가 인테리어 계약</td>\n",
       "      <td>NaN</td>\n",
       "    </tr>\n",
       "  </tbody>\n",
       "</table>\n",
       "</div>"
      ],
      "text/plain": [
       "                                              review  코더A\n",
       "0     프리패스  상황에 맞는 OOTD가 이렇게나 중요하다 택배박스도 보여주고 어디 ...  NaN\n",
       "1  틈은 흠일까  지난 시간들을 돌이켜 보면 나는 원래 틈이 많은 사람이었다  손해를 ...  NaN\n",
       "2                                       무인모텔     계속   NaN\n",
       "3  무인문구점  그게 되겠어      아이가 생기고 나서는 주말은 온전히 아이를 위한 ...  NaN\n",
       "4                      무인키즈카페 창업일기  편  상가 인테리어 계약     NaN"
      ]
     },
     "execution_count": 6,
     "metadata": {},
     "output_type": "execute_result"
    }
   ],
   "source": [
    "df_brunch = df_brunch.drop_duplicates()\n",
    "print(df_brunch.shape)\n",
    "df_brunch.head()"
   ]
  },
  {
   "cell_type": "markdown",
   "id": "be96b0e1",
   "metadata": {},
   "source": []
  },
  {
   "cell_type": "markdown",
   "id": "4876da48",
   "metadata": {},
   "source": [
    "### 아싸 파일 통합"
   ]
  },
  {
   "cell_type": "code",
   "execution_count": null,
   "id": "e6cc116b",
   "metadata": {},
   "outputs": [],
   "source": []
  },
  {
   "cell_type": "code",
   "execution_count": 7,
   "id": "166e035c",
   "metadata": {},
   "outputs": [],
   "source": [
    "asa_list = glob.glob('*아싸*.csv')"
   ]
  },
  {
   "cell_type": "code",
   "execution_count": 8,
   "id": "aadfc6e9",
   "metadata": {},
   "outputs": [
    {
     "name": "stdout",
     "output_type": "stream",
     "text": [
      "[KB]아싸_라이프_차미_전처리_final.csv\n",
      "[KB]아싸_상훈_전처리_final.csv\n",
      "[KB]아싸_정은_전처리_final.csv\n",
      "[KB]아싸_차미_전처리_final.csv\n",
      "[KB]아싸_채널통합.csv\n",
      "아싸_라벨링.csv\n"
     ]
    }
   ],
   "source": [
    "dfs = []\n",
    "for file in asa_list:\n",
    "    df = pd.read_csv(file)\n",
    "    print(file)\n",
    "    dfs.append(df) "
   ]
  },
  {
   "cell_type": "code",
   "execution_count": 9,
   "id": "a3596acf",
   "metadata": {},
   "outputs": [
    {
     "name": "stdout",
     "output_type": "stream",
     "text": [
      "(155473, 5)\n"
     ]
    },
    {
     "data": {
      "text/html": [
       "<div>\n",
       "<style scoped>\n",
       "    .dataframe tbody tr th:only-of-type {\n",
       "        vertical-align: middle;\n",
       "    }\n",
       "\n",
       "    .dataframe tbody tr th {\n",
       "        vertical-align: top;\n",
       "    }\n",
       "\n",
       "    .dataframe thead th {\n",
       "        text-align: right;\n",
       "    }\n",
       "</style>\n",
       "<table border=\"1\" class=\"dataframe\">\n",
       "  <thead>\n",
       "    <tr style=\"text-align: right;\">\n",
       "      <th></th>\n",
       "      <th>Unnamed: 0</th>\n",
       "      <th>review</th>\n",
       "      <th>코더A</th>\n",
       "      <th>코더B</th>\n",
       "      <th>코더C</th>\n",
       "    </tr>\n",
       "  </thead>\n",
       "  <tbody>\n",
       "    <tr>\n",
       "      <th>0</th>\n",
       "      <td>0</td>\n",
       "      <td>사업자대출여러건 있을때 아파트입주시 집단대출 사업자대출이 코로나1차2차5000 소상...</td>\n",
       "      <td>NaN</td>\n",
       "      <td>NaN</td>\n",
       "      <td>NaN</td>\n",
       "    </tr>\n",
       "    <tr>\n",
       "      <th>1</th>\n",
       "      <td>1</td>\n",
       "      <td>한가하니 이번에 만든 청귤청으로 에이드 만들어 먹었네요ㅎ 말일이라 그런지 조~~용하...</td>\n",
       "      <td>NaN</td>\n",
       "      <td>NaN</td>\n",
       "      <td>NaN</td>\n",
       "    </tr>\n",
       "    <tr>\n",
       "      <th>2</th>\n",
       "      <td>2</td>\n",
       "      <td>걱정했는데 손님이 꽤 있네요 여름휴가 보내고 와서 손님 떨어질까봐 걱정했는데 그래도...</td>\n",
       "      <td>NaN</td>\n",
       "      <td>NaN</td>\n",
       "      <td>NaN</td>\n",
       "    </tr>\n",
       "    <tr>\n",
       "      <th>3</th>\n",
       "      <td>3</td>\n",
       "      <td>비~~좀 그만~~ 어제 오후부터 쉬지 않고 내리고 있네요. 안전운전들 하시고 즐거운...</td>\n",
       "      <td>NaN</td>\n",
       "      <td>NaN</td>\n",
       "      <td>NaN</td>\n",
       "    </tr>\n",
       "    <tr>\n",
       "      <th>4</th>\n",
       "      <td>4</td>\n",
       "      <td>가족의 도박문제 대처 저희 큰아들이 작년에 도박문제로 가족이 많이 힘들었습니다. 1...</td>\n",
       "      <td>NaN</td>\n",
       "      <td>NaN</td>\n",
       "      <td>NaN</td>\n",
       "    </tr>\n",
       "  </tbody>\n",
       "</table>\n",
       "</div>"
      ],
      "text/plain": [
       "   Unnamed: 0                                             review  코더A  코더B  \\\n",
       "0           0  사업자대출여러건 있을때 아파트입주시 집단대출 사업자대출이 코로나1차2차5000 소상...  NaN  NaN   \n",
       "1           1  한가하니 이번에 만든 청귤청으로 에이드 만들어 먹었네요ㅎ 말일이라 그런지 조~~용하...  NaN  NaN   \n",
       "2           2  걱정했는데 손님이 꽤 있네요 여름휴가 보내고 와서 손님 떨어질까봐 걱정했는데 그래도...  NaN  NaN   \n",
       "3           3  비~~좀 그만~~ 어제 오후부터 쉬지 않고 내리고 있네요. 안전운전들 하시고 즐거운...  NaN  NaN   \n",
       "4           4  가족의 도박문제 대처 저희 큰아들이 작년에 도박문제로 가족이 많이 힘들었습니다. 1...  NaN  NaN   \n",
       "\n",
       "   코더C  \n",
       "0  NaN  \n",
       "1  NaN  \n",
       "2  NaN  \n",
       "3  NaN  \n",
       "4  NaN  "
      ]
     },
     "execution_count": 9,
     "metadata": {},
     "output_type": "execute_result"
    }
   ],
   "source": [
    "df_asa = pd.concat(dfs, ignore_index = True)\n",
    "print(df_asa.shape)\n",
    "df_asa.head()"
   ]
  },
  {
   "cell_type": "code",
   "execution_count": 10,
   "id": "815495f7",
   "metadata": {},
   "outputs": [],
   "source": [
    "df_asa.drop(columns=['Unnamed: 0'], inplace=True)"
   ]
  },
  {
   "cell_type": "code",
   "execution_count": 11,
   "id": "8e25c601",
   "metadata": {},
   "outputs": [
    {
     "name": "stdout",
     "output_type": "stream",
     "text": [
      "(76923, 4)\n"
     ]
    },
    {
     "data": {
      "text/html": [
       "<div>\n",
       "<style scoped>\n",
       "    .dataframe tbody tr th:only-of-type {\n",
       "        vertical-align: middle;\n",
       "    }\n",
       "\n",
       "    .dataframe tbody tr th {\n",
       "        vertical-align: top;\n",
       "    }\n",
       "\n",
       "    .dataframe thead th {\n",
       "        text-align: right;\n",
       "    }\n",
       "</style>\n",
       "<table border=\"1\" class=\"dataframe\">\n",
       "  <thead>\n",
       "    <tr style=\"text-align: right;\">\n",
       "      <th></th>\n",
       "      <th>review</th>\n",
       "      <th>코더A</th>\n",
       "      <th>코더B</th>\n",
       "      <th>코더C</th>\n",
       "    </tr>\n",
       "  </thead>\n",
       "  <tbody>\n",
       "    <tr>\n",
       "      <th>0</th>\n",
       "      <td>사업자대출여러건 있을때 아파트입주시 집단대출 사업자대출이 코로나1차2차5000 소상...</td>\n",
       "      <td>NaN</td>\n",
       "      <td>NaN</td>\n",
       "      <td>NaN</td>\n",
       "    </tr>\n",
       "    <tr>\n",
       "      <th>1</th>\n",
       "      <td>한가하니 이번에 만든 청귤청으로 에이드 만들어 먹었네요ㅎ 말일이라 그런지 조~~용하...</td>\n",
       "      <td>NaN</td>\n",
       "      <td>NaN</td>\n",
       "      <td>NaN</td>\n",
       "    </tr>\n",
       "    <tr>\n",
       "      <th>2</th>\n",
       "      <td>걱정했는데 손님이 꽤 있네요 여름휴가 보내고 와서 손님 떨어질까봐 걱정했는데 그래도...</td>\n",
       "      <td>NaN</td>\n",
       "      <td>NaN</td>\n",
       "      <td>NaN</td>\n",
       "    </tr>\n",
       "    <tr>\n",
       "      <th>3</th>\n",
       "      <td>비~~좀 그만~~ 어제 오후부터 쉬지 않고 내리고 있네요. 안전운전들 하시고 즐거운...</td>\n",
       "      <td>NaN</td>\n",
       "      <td>NaN</td>\n",
       "      <td>NaN</td>\n",
       "    </tr>\n",
       "    <tr>\n",
       "      <th>4</th>\n",
       "      <td>가족의 도박문제 대처 저희 큰아들이 작년에 도박문제로 가족이 많이 힘들었습니다. 1...</td>\n",
       "      <td>NaN</td>\n",
       "      <td>NaN</td>\n",
       "      <td>NaN</td>\n",
       "    </tr>\n",
       "  </tbody>\n",
       "</table>\n",
       "</div>"
      ],
      "text/plain": [
       "                                              review  코더A  코더B  코더C\n",
       "0  사업자대출여러건 있을때 아파트입주시 집단대출 사업자대출이 코로나1차2차5000 소상...  NaN  NaN  NaN\n",
       "1  한가하니 이번에 만든 청귤청으로 에이드 만들어 먹었네요ㅎ 말일이라 그런지 조~~용하...  NaN  NaN  NaN\n",
       "2  걱정했는데 손님이 꽤 있네요 여름휴가 보내고 와서 손님 떨어질까봐 걱정했는데 그래도...  NaN  NaN  NaN\n",
       "3  비~~좀 그만~~ 어제 오후부터 쉬지 않고 내리고 있네요. 안전운전들 하시고 즐거운...  NaN  NaN  NaN\n",
       "4  가족의 도박문제 대처 저희 큰아들이 작년에 도박문제로 가족이 많이 힘들었습니다. 1...  NaN  NaN  NaN"
      ]
     },
     "execution_count": 11,
     "metadata": {},
     "output_type": "execute_result"
    }
   ],
   "source": [
    "df_asa = df_asa.drop_duplicates()\n",
    "print(df_asa.shape)\n",
    "df_asa.head()"
   ]
  },
  {
   "cell_type": "code",
   "execution_count": null,
   "id": "86088099",
   "metadata": {},
   "outputs": [],
   "source": []
  },
  {
   "cell_type": "markdown",
   "id": "8dc3ed38",
   "metadata": {},
   "source": [
    "### 셀러오션 파일 통합"
   ]
  },
  {
   "cell_type": "code",
   "execution_count": null,
   "id": "adaf2198",
   "metadata": {},
   "outputs": [],
   "source": []
  },
  {
   "cell_type": "code",
   "execution_count": 12,
   "id": "ae0e3149",
   "metadata": {},
   "outputs": [],
   "source": [
    "sell_list = glob.glob('*셀러오션*.csv')"
   ]
  },
  {
   "cell_type": "code",
   "execution_count": 13,
   "id": "976188a4",
   "metadata": {},
   "outputs": [
    {
     "name": "stdout",
     "output_type": "stream",
     "text": [
      "[KB]셀러오션_연수_전처리_final.csv\n",
      "[KB]셀러오션_채널통합.csv\n",
      "[KB]셀러오션_채란_전처리_final.csv\n",
      "[KB]셀러오션_혜진_전처리_final.csv\n",
      "셀러오션_라벨링.csv\n"
     ]
    }
   ],
   "source": [
    "dfs = []\n",
    "for file in sell_list:\n",
    "    df = pd.read_csv(file)\n",
    "    print(file)\n",
    "    dfs.append(df) "
   ]
  },
  {
   "cell_type": "code",
   "execution_count": 14,
   "id": "30a4c7fc",
   "metadata": {},
   "outputs": [
    {
     "name": "stdout",
     "output_type": "stream",
     "text": [
      "(343037, 5)\n"
     ]
    },
    {
     "data": {
      "text/html": [
       "<div>\n",
       "<style scoped>\n",
       "    .dataframe tbody tr th:only-of-type {\n",
       "        vertical-align: middle;\n",
       "    }\n",
       "\n",
       "    .dataframe tbody tr th {\n",
       "        vertical-align: top;\n",
       "    }\n",
       "\n",
       "    .dataframe thead th {\n",
       "        text-align: right;\n",
       "    }\n",
       "</style>\n",
       "<table border=\"1\" class=\"dataframe\">\n",
       "  <thead>\n",
       "    <tr style=\"text-align: right;\">\n",
       "      <th></th>\n",
       "      <th>Unnamed: 0</th>\n",
       "      <th>review</th>\n",
       "      <th>코더A</th>\n",
       "      <th>코더B</th>\n",
       "      <th>코더C</th>\n",
       "    </tr>\n",
       "  </thead>\n",
       "  <tbody>\n",
       "    <tr>\n",
       "      <th>0</th>\n",
       "      <td>0</td>\n",
       "      <td>주변사람들도 다 소비를 줄이고 투자를 늘리는 분위기네요 전국에 귀신들린듯 어떻게 이...</td>\n",
       "      <td>NaN</td>\n",
       "      <td>NaN</td>\n",
       "      <td>NaN</td>\n",
       "    </tr>\n",
       "    <tr>\n",
       "      <th>1</th>\n",
       "      <td>1</td>\n",
       "      <td>육류(국내산소고기,한우)전문 판매 법인회사 양도 매매 게시글 작성시 최소한의 정보는...</td>\n",
       "      <td>NaN</td>\n",
       "      <td>NaN</td>\n",
       "      <td>NaN</td>\n",
       "    </tr>\n",
       "    <tr>\n",
       "      <th>2</th>\n",
       "      <td>2</td>\n",
       "      <td>판매수익 정산 및 사업자 코드 궁금합니다 궁금한 점이 있어서 글써봐요! 1. 현재 ...</td>\n",
       "      <td>NaN</td>\n",
       "      <td>NaN</td>\n",
       "      <td>NaN</td>\n",
       "    </tr>\n",
       "    <tr>\n",
       "      <th>3</th>\n",
       "      <td>3</td>\n",
       "      <td>추석 임시공휴일 싫은데… 직장인들은 너무 바라겠지만 온라인은 망… 추석전에 택배 마...</td>\n",
       "      <td>NaN</td>\n",
       "      <td>NaN</td>\n",
       "      <td>NaN</td>\n",
       "    </tr>\n",
       "    <tr>\n",
       "      <th>4</th>\n",
       "      <td>4</td>\n",
       "      <td>운수업 창업이나 인수 계획 있으신분 운영권 매각 합니다 자동차부품지입차량6대 직영 ...</td>\n",
       "      <td>NaN</td>\n",
       "      <td>NaN</td>\n",
       "      <td>NaN</td>\n",
       "    </tr>\n",
       "  </tbody>\n",
       "</table>\n",
       "</div>"
      ],
      "text/plain": [
       "   Unnamed: 0                                             review  코더A  코더B  \\\n",
       "0           0  주변사람들도 다 소비를 줄이고 투자를 늘리는 분위기네요 전국에 귀신들린듯 어떻게 이...  NaN  NaN   \n",
       "1           1  육류(국내산소고기,한우)전문 판매 법인회사 양도 매매 게시글 작성시 최소한의 정보는...  NaN  NaN   \n",
       "2           2  판매수익 정산 및 사업자 코드 궁금합니다 궁금한 점이 있어서 글써봐요! 1. 현재 ...  NaN  NaN   \n",
       "3           3  추석 임시공휴일 싫은데… 직장인들은 너무 바라겠지만 온라인은 망… 추석전에 택배 마...  NaN  NaN   \n",
       "4           4  운수업 창업이나 인수 계획 있으신분 운영권 매각 합니다 자동차부품지입차량6대 직영 ...  NaN  NaN   \n",
       "\n",
       "   코더C  \n",
       "0  NaN  \n",
       "1  NaN  \n",
       "2  NaN  \n",
       "3  NaN  \n",
       "4  NaN  "
      ]
     },
     "execution_count": 14,
     "metadata": {},
     "output_type": "execute_result"
    }
   ],
   "source": [
    "df_sell = pd.concat(dfs, ignore_index = True)\n",
    "print(df_sell.shape)\n",
    "df_sell.head()"
   ]
  },
  {
   "cell_type": "code",
   "execution_count": 15,
   "id": "5eef99f7",
   "metadata": {},
   "outputs": [],
   "source": [
    "df_sell.drop(columns=['Unnamed: 0'], inplace=True)"
   ]
  },
  {
   "cell_type": "code",
   "execution_count": 16,
   "id": "ac97851a",
   "metadata": {},
   "outputs": [
    {
     "name": "stdout",
     "output_type": "stream",
     "text": [
      "(134690, 4)\n"
     ]
    },
    {
     "data": {
      "text/html": [
       "<div>\n",
       "<style scoped>\n",
       "    .dataframe tbody tr th:only-of-type {\n",
       "        vertical-align: middle;\n",
       "    }\n",
       "\n",
       "    .dataframe tbody tr th {\n",
       "        vertical-align: top;\n",
       "    }\n",
       "\n",
       "    .dataframe thead th {\n",
       "        text-align: right;\n",
       "    }\n",
       "</style>\n",
       "<table border=\"1\" class=\"dataframe\">\n",
       "  <thead>\n",
       "    <tr style=\"text-align: right;\">\n",
       "      <th></th>\n",
       "      <th>review</th>\n",
       "      <th>코더A</th>\n",
       "      <th>코더B</th>\n",
       "      <th>코더C</th>\n",
       "    </tr>\n",
       "  </thead>\n",
       "  <tbody>\n",
       "    <tr>\n",
       "      <th>0</th>\n",
       "      <td>주변사람들도 다 소비를 줄이고 투자를 늘리는 분위기네요 전국에 귀신들린듯 어떻게 이...</td>\n",
       "      <td>NaN</td>\n",
       "      <td>NaN</td>\n",
       "      <td>NaN</td>\n",
       "    </tr>\n",
       "    <tr>\n",
       "      <th>1</th>\n",
       "      <td>육류(국내산소고기,한우)전문 판매 법인회사 양도 매매 게시글 작성시 최소한의 정보는...</td>\n",
       "      <td>NaN</td>\n",
       "      <td>NaN</td>\n",
       "      <td>NaN</td>\n",
       "    </tr>\n",
       "    <tr>\n",
       "      <th>2</th>\n",
       "      <td>판매수익 정산 및 사업자 코드 궁금합니다 궁금한 점이 있어서 글써봐요! 1. 현재 ...</td>\n",
       "      <td>NaN</td>\n",
       "      <td>NaN</td>\n",
       "      <td>NaN</td>\n",
       "    </tr>\n",
       "    <tr>\n",
       "      <th>3</th>\n",
       "      <td>추석 임시공휴일 싫은데… 직장인들은 너무 바라겠지만 온라인은 망… 추석전에 택배 마...</td>\n",
       "      <td>NaN</td>\n",
       "      <td>NaN</td>\n",
       "      <td>NaN</td>\n",
       "    </tr>\n",
       "    <tr>\n",
       "      <th>4</th>\n",
       "      <td>운수업 창업이나 인수 계획 있으신분 운영권 매각 합니다 자동차부품지입차량6대 직영 ...</td>\n",
       "      <td>NaN</td>\n",
       "      <td>NaN</td>\n",
       "      <td>NaN</td>\n",
       "    </tr>\n",
       "  </tbody>\n",
       "</table>\n",
       "</div>"
      ],
      "text/plain": [
       "                                              review  코더A  코더B  코더C\n",
       "0  주변사람들도 다 소비를 줄이고 투자를 늘리는 분위기네요 전국에 귀신들린듯 어떻게 이...  NaN  NaN  NaN\n",
       "1  육류(국내산소고기,한우)전문 판매 법인회사 양도 매매 게시글 작성시 최소한의 정보는...  NaN  NaN  NaN\n",
       "2  판매수익 정산 및 사업자 코드 궁금합니다 궁금한 점이 있어서 글써봐요! 1. 현재 ...  NaN  NaN  NaN\n",
       "3  추석 임시공휴일 싫은데… 직장인들은 너무 바라겠지만 온라인은 망… 추석전에 택배 마...  NaN  NaN  NaN\n",
       "4  운수업 창업이나 인수 계획 있으신분 운영권 매각 합니다 자동차부품지입차량6대 직영 ...  NaN  NaN  NaN"
      ]
     },
     "execution_count": 16,
     "metadata": {},
     "output_type": "execute_result"
    }
   ],
   "source": [
    "df_sell = df_sell.drop_duplicates()\n",
    "print(df_sell.shape)\n",
    "df_sell.head()"
   ]
  },
  {
   "cell_type": "code",
   "execution_count": null,
   "id": "ce90281f",
   "metadata": {},
   "outputs": [],
   "source": []
  },
  {
   "cell_type": "markdown",
   "id": "3222dd23",
   "metadata": {},
   "source": [
    "### 지식인 파일 통합"
   ]
  },
  {
   "cell_type": "code",
   "execution_count": null,
   "id": "d74bae16",
   "metadata": {},
   "outputs": [],
   "source": []
  },
  {
   "cell_type": "code",
   "execution_count": 17,
   "id": "32d83751",
   "metadata": {},
   "outputs": [
    {
     "name": "stdout",
     "output_type": "stream",
     "text": [
      "(289943, 1)\n"
     ]
    },
    {
     "data": {
      "text/html": [
       "<div>\n",
       "<style scoped>\n",
       "    .dataframe tbody tr th:only-of-type {\n",
       "        vertical-align: middle;\n",
       "    }\n",
       "\n",
       "    .dataframe tbody tr th {\n",
       "        vertical-align: top;\n",
       "    }\n",
       "\n",
       "    .dataframe thead th {\n",
       "        text-align: right;\n",
       "    }\n",
       "</style>\n",
       "<table border=\"1\" class=\"dataframe\">\n",
       "  <thead>\n",
       "    <tr style=\"text-align: right;\">\n",
       "      <th></th>\n",
       "      <th>review</th>\n",
       "    </tr>\n",
       "  </thead>\n",
       "  <tbody>\n",
       "    <tr>\n",
       "      <th>0</th>\n",
       "      <td>올해 월 알제리 여행갈려고 합니다 여자친구한데 도움을 받고 알제 위주로 다닐텐데 현...</td>\n",
       "    </tr>\n",
       "    <tr>\n",
       "      <th>1</th>\n",
       "      <td>일본에서 결혼 할 수 있을까요 feat 일본인 여자친구 안녕하세요 세 토종 한국인 ...</td>\n",
       "    </tr>\n",
       "    <tr>\n",
       "      <th>2</th>\n",
       "      <td>헤어진 여자친구를 다시 잡고싶어요 안녕하세요 올해로 된 남자입니다 여자친구는 올해로...</td>\n",
       "    </tr>\n",
       "    <tr>\n",
       "      <th>3</th>\n",
       "      <td>결혼 계획을 세우고 있는데 여자친구가 아버지 사업으로인한 신용불량자 상태 입니다 혼...</td>\n",
       "    </tr>\n",
       "    <tr>\n",
       "      <th>4</th>\n",
       "      <td>저도 여자친구 사귈수있나요 안녕하세요 년생 살 모태솔로입니다 제가 살면서 친구 여자...</td>\n",
       "    </tr>\n",
       "  </tbody>\n",
       "</table>\n",
       "</div>"
      ],
      "text/plain": [
       "                                              review\n",
       "0  올해 월 알제리 여행갈려고 합니다 여자친구한데 도움을 받고 알제 위주로 다닐텐데 현...\n",
       "1  일본에서 결혼 할 수 있을까요 feat 일본인 여자친구 안녕하세요 세 토종 한국인 ...\n",
       "2  헤어진 여자친구를 다시 잡고싶어요 안녕하세요 올해로 된 남자입니다 여자친구는 올해로...\n",
       "3  결혼 계획을 세우고 있는데 여자친구가 아버지 사업으로인한 신용불량자 상태 입니다 혼...\n",
       "4  저도 여자친구 사귈수있나요 안녕하세요 년생 살 모태솔로입니다 제가 살면서 친구 여자..."
      ]
     },
     "execution_count": 17,
     "metadata": {},
     "output_type": "execute_result"
    }
   ],
   "source": [
    "df_acknow = pd.read_csv('[KB]지식인_유빈새연다운_전처리_final.csv')\n",
    "print(df_acknow.shape)\n",
    "df_acknow.head()"
   ]
  },
  {
   "cell_type": "code",
   "execution_count": 18,
   "id": "86569f86",
   "metadata": {},
   "outputs": [
    {
     "name": "stdout",
     "output_type": "stream",
     "text": [
      "(289107, 1)\n"
     ]
    },
    {
     "data": {
      "text/html": [
       "<div>\n",
       "<style scoped>\n",
       "    .dataframe tbody tr th:only-of-type {\n",
       "        vertical-align: middle;\n",
       "    }\n",
       "\n",
       "    .dataframe tbody tr th {\n",
       "        vertical-align: top;\n",
       "    }\n",
       "\n",
       "    .dataframe thead th {\n",
       "        text-align: right;\n",
       "    }\n",
       "</style>\n",
       "<table border=\"1\" class=\"dataframe\">\n",
       "  <thead>\n",
       "    <tr style=\"text-align: right;\">\n",
       "      <th></th>\n",
       "      <th>review</th>\n",
       "    </tr>\n",
       "  </thead>\n",
       "  <tbody>\n",
       "    <tr>\n",
       "      <th>0</th>\n",
       "      <td>올해 월 알제리 여행갈려고 합니다 여자친구한데 도움을 받고 알제 위주로 다닐텐데 현...</td>\n",
       "    </tr>\n",
       "    <tr>\n",
       "      <th>1</th>\n",
       "      <td>일본에서 결혼 할 수 있을까요 feat 일본인 여자친구 안녕하세요 세 토종 한국인 ...</td>\n",
       "    </tr>\n",
       "    <tr>\n",
       "      <th>2</th>\n",
       "      <td>헤어진 여자친구를 다시 잡고싶어요 안녕하세요 올해로 된 남자입니다 여자친구는 올해로...</td>\n",
       "    </tr>\n",
       "    <tr>\n",
       "      <th>3</th>\n",
       "      <td>결혼 계획을 세우고 있는데 여자친구가 아버지 사업으로인한 신용불량자 상태 입니다 혼...</td>\n",
       "    </tr>\n",
       "    <tr>\n",
       "      <th>4</th>\n",
       "      <td>저도 여자친구 사귈수있나요 안녕하세요 년생 살 모태솔로입니다 제가 살면서 친구 여자...</td>\n",
       "    </tr>\n",
       "  </tbody>\n",
       "</table>\n",
       "</div>"
      ],
      "text/plain": [
       "                                              review\n",
       "0  올해 월 알제리 여행갈려고 합니다 여자친구한데 도움을 받고 알제 위주로 다닐텐데 현...\n",
       "1  일본에서 결혼 할 수 있을까요 feat 일본인 여자친구 안녕하세요 세 토종 한국인 ...\n",
       "2  헤어진 여자친구를 다시 잡고싶어요 안녕하세요 올해로 된 남자입니다 여자친구는 올해로...\n",
       "3  결혼 계획을 세우고 있는데 여자친구가 아버지 사업으로인한 신용불량자 상태 입니다 혼...\n",
       "4  저도 여자친구 사귈수있나요 안녕하세요 년생 살 모태솔로입니다 제가 살면서 친구 여자..."
      ]
     },
     "execution_count": 18,
     "metadata": {},
     "output_type": "execute_result"
    }
   ],
   "source": [
    "df_acknow = df_acknow.drop_duplicates()\n",
    "print(df_acknow.shape)\n",
    "df_acknow.head()"
   ]
  },
  {
   "cell_type": "code",
   "execution_count": null,
   "id": "8fdd5c39",
   "metadata": {},
   "outputs": [],
   "source": []
  },
  {
   "cell_type": "code",
   "execution_count": 19,
   "id": "a585b997",
   "metadata": {},
   "outputs": [
    {
     "data": {
      "text/plain": [
       "512813"
      ]
     },
     "execution_count": 19,
     "metadata": {},
     "output_type": "execute_result"
    }
   ],
   "source": [
    "len(df_brunch) + len(df_asa) + len(df_sell) + len(df_acknow)"
   ]
  },
  {
   "cell_type": "code",
   "execution_count": 20,
   "id": "2939e203",
   "metadata": {},
   "outputs": [
    {
     "data": {
      "text/plain": [
       "10256.14"
      ]
     },
     "execution_count": 20,
     "metadata": {},
     "output_type": "execute_result"
    }
   ],
   "source": [
    "512807 * 0.02"
   ]
  },
  {
   "cell_type": "markdown",
   "id": "440063ec",
   "metadata": {},
   "source": [
    "### 카테고리별 2%씩 랜덤 샘플 추출\n",
    "\n",
    "- 라벨링용 채널별 통합 및 1차 전처리 완료 후 데이터 수: 512,807개\n",
    "- 1차 전처리 후 데이터의 약 3% 라벨링 진행 (카테고리별 2%씩 랜덤 샘플 추출 진행)  \n",
    "- 2% = approx. 10,256 (*한 사람당 3,419개 내외)\n"
   ]
  },
  {
   "cell_type": "code",
   "execution_count": 21,
   "id": "a58756d0",
   "metadata": {},
   "outputs": [],
   "source": [
    "df_brunch_sample = df_brunch.sample(n=None, frac=0.02, replace=False, weights=None, random_state=None, axis=None, ignore_index=False)\n",
    "df_asa_sample = df_asa.sample(n=None, frac=0.02, replace=False, weights=None, random_state=None, axis=None, ignore_index=False)\n",
    "df_sell_sample = df_sell.sample(n=None, frac=0.02, replace=False, weights=None, random_state=None, axis=None, ignore_index=False)\n",
    "df_acknow_sample = df_acknow.sample(n=None, frac=0.02, replace=False, weights=None, random_state=None, axis=None, ignore_index=False)\n"
   ]
  },
  {
   "cell_type": "code",
   "execution_count": 22,
   "id": "271bfa32",
   "metadata": {},
   "outputs": [
    {
     "data": {
      "text/html": [
       "<div>\n",
       "<style scoped>\n",
       "    .dataframe tbody tr th:only-of-type {\n",
       "        vertical-align: middle;\n",
       "    }\n",
       "\n",
       "    .dataframe tbody tr th {\n",
       "        vertical-align: top;\n",
       "    }\n",
       "\n",
       "    .dataframe thead th {\n",
       "        text-align: right;\n",
       "    }\n",
       "</style>\n",
       "<table border=\"1\" class=\"dataframe\">\n",
       "  <thead>\n",
       "    <tr style=\"text-align: right;\">\n",
       "      <th></th>\n",
       "      <th>review</th>\n",
       "      <th>코더A</th>\n",
       "    </tr>\n",
       "  </thead>\n",
       "  <tbody>\n",
       "    <tr>\n",
       "      <th>2060</th>\n",
       "      <td>시효 이야기   시효란 일정한 사실 상태가 일정 기간 계속된 경우  그 사실 상태가...</td>\n",
       "      <td>NaN</td>\n",
       "    </tr>\n",
       "    <tr>\n",
       "      <th>4404</th>\n",
       "      <td>중국판 틱톡 인기 숏클립 분석                 데일리 중국 뉴...</td>\n",
       "      <td>NaN</td>\n",
       "    </tr>\n",
       "    <tr>\n",
       "      <th>9510</th>\n",
       "      <td>에어팟프로 실리콘 케이스    개 팔아보기  차별점이 없는 제품도 분명 차익거래 a...</td>\n",
       "      <td>NaN</td>\n",
       "    </tr>\n",
       "    <tr>\n",
       "      <th>6182</th>\n",
       "      <td>세상 그렇게 사는 거 아닙니다  장사를 하다 보면 블랙 컨슈머  이른바 진상 고객을...</td>\n",
       "      <td>NaN</td>\n",
       "    </tr>\n",
       "    <tr>\n",
       "      <th>11964</th>\n",
       "      <td>나를 설레게 하는 도입부   믿고 보는    배우  믿고 듣는    가수  믿고 읽...</td>\n",
       "      <td>NaN</td>\n",
       "    </tr>\n",
       "    <tr>\n",
       "      <th>...</th>\n",
       "      <td>...</td>\n",
       "      <td>...</td>\n",
       "    </tr>\n",
       "    <tr>\n",
       "      <th>1254</th>\n",
       "      <td>블랭크 출신    마케팅 사이드잡 후기  DIO에서는 마케팅도 사이드잡으로 할 수 ...</td>\n",
       "      <td>NaN</td>\n",
       "    </tr>\n",
       "    <tr>\n",
       "      <th>5753</th>\n",
       "      <td>AI   화 노동 없는 생산의 시대     이번 chapter부터 다룰 내용은 디플...</td>\n",
       "      <td>NaN</td>\n",
       "    </tr>\n",
       "    <tr>\n",
       "      <th>8885</th>\n",
       "      <td>나도 나의 꿈이 공무원이면 좋겠다   마흔 넘은 주부인 내게 음악이 필요한 이유는 ...</td>\n",
       "      <td>NaN</td>\n",
       "    </tr>\n",
       "    <tr>\n",
       "      <th>8991</th>\n",
       "      <td>학년도 수능 기행  그냥 지나칠까 하다가 아이들 어릴 때부터 조금씩 남긴 흔...</td>\n",
       "      <td>NaN</td>\n",
       "    </tr>\n",
       "    <tr>\n",
       "      <th>10793</th>\n",
       "      <td>플래폼 쓰려면 쓰레기도 같이 보라구요   유튜브 시청자들 사이에는  극혐 하는 광고...</td>\n",
       "      <td>NaN</td>\n",
       "    </tr>\n",
       "  </tbody>\n",
       "</table>\n",
       "<p>242 rows × 2 columns</p>\n",
       "</div>"
      ],
      "text/plain": [
       "                                                  review  코더A\n",
       "2060   시효 이야기   시효란 일정한 사실 상태가 일정 기간 계속된 경우  그 사실 상태가...  NaN\n",
       "4404        중국판 틱톡 인기 숏클립 분석                 데일리 중국 뉴...  NaN\n",
       "9510   에어팟프로 실리콘 케이스    개 팔아보기  차별점이 없는 제품도 분명 차익거래 a...  NaN\n",
       "6182   세상 그렇게 사는 거 아닙니다  장사를 하다 보면 블랙 컨슈머  이른바 진상 고객을...  NaN\n",
       "11964  나를 설레게 하는 도입부   믿고 보는    배우  믿고 듣는    가수  믿고 읽...  NaN\n",
       "...                                                  ...  ...\n",
       "1254   블랭크 출신    마케팅 사이드잡 후기  DIO에서는 마케팅도 사이드잡으로 할 수 ...  NaN\n",
       "5753   AI   화 노동 없는 생산의 시대     이번 chapter부터 다룰 내용은 디플...  NaN\n",
       "8885   나도 나의 꿈이 공무원이면 좋겠다   마흔 넘은 주부인 내게 음악이 필요한 이유는 ...  NaN\n",
       "8991       학년도 수능 기행  그냥 지나칠까 하다가 아이들 어릴 때부터 조금씩 남긴 흔...  NaN\n",
       "10793  플래폼 쓰려면 쓰레기도 같이 보라구요   유튜브 시청자들 사이에는  극혐 하는 광고...  NaN\n",
       "\n",
       "[242 rows x 2 columns]"
      ]
     },
     "execution_count": 22,
     "metadata": {},
     "output_type": "execute_result"
    }
   ],
   "source": [
    "df_brunch_sample"
   ]
  },
  {
   "cell_type": "code",
   "execution_count": 23,
   "id": "b8f0be8d",
   "metadata": {},
   "outputs": [
    {
     "data": {
      "text/html": [
       "<div>\n",
       "<style scoped>\n",
       "    .dataframe tbody tr th:only-of-type {\n",
       "        vertical-align: middle;\n",
       "    }\n",
       "\n",
       "    .dataframe tbody tr th {\n",
       "        vertical-align: top;\n",
       "    }\n",
       "\n",
       "    .dataframe thead th {\n",
       "        text-align: right;\n",
       "    }\n",
       "</style>\n",
       "<table border=\"1\" class=\"dataframe\">\n",
       "  <thead>\n",
       "    <tr style=\"text-align: right;\">\n",
       "      <th></th>\n",
       "      <th>review</th>\n",
       "      <th>코더A</th>\n",
       "      <th>코더B</th>\n",
       "      <th>코더C</th>\n",
       "    </tr>\n",
       "  </thead>\n",
       "  <tbody>\n",
       "    <tr>\n",
       "      <th>35149</th>\n",
       "      <td>다이소에서 사면 후회하는것들... 개인적으로 다이소 많이 이용하는데 후회하는 물건이...</td>\n",
       "      <td>NaN</td>\n",
       "      <td>NaN</td>\n",
       "      <td>NaN</td>\n",
       "    </tr>\n",
       "    <tr>\n",
       "      <th>75765</th>\n",
       "      <td>과일 장사는 어떨까요?? 창업하려 하는데.. 프렌차이즈 과일 장사는 어떨까요?? 많...</td>\n",
       "      <td>NaN</td>\n",
       "      <td>NaN</td>\n",
       "      <td>NaN</td>\n",
       "    </tr>\n",
       "    <tr>\n",
       "      <th>41061</th>\n",
       "      <td>매출감소만 확인되면 100만원지급? 어제 퇴근하고 뉴스를 보는데 방역지원금 100만...</td>\n",
       "      <td>NaN</td>\n",
       "      <td>NaN</td>\n",
       "      <td>NaN</td>\n",
       "    </tr>\n",
       "    <tr>\n",
       "      <th>19677</th>\n",
       "      <td>미라클 모닝d+75 안녕 나의 하루~ #모닝뮤직🎶 지누션\"A-YO\" \"열받지 가끔씩...</td>\n",
       "      <td>NaN</td>\n",
       "      <td>NaN</td>\n",
       "      <td>NaN</td>\n",
       "    </tr>\n",
       "    <tr>\n",
       "      <th>60678</th>\n",
       "      <td>휴대폰창업 휴대폰매장 창업하려고 하는데 다들 어떻게 생각하시나요 전 기본적으로 비추...</td>\n",
       "      <td>NaN</td>\n",
       "      <td>NaN</td>\n",
       "      <td>NaN</td>\n",
       "    </tr>\n",
       "    <tr>\n",
       "      <th>...</th>\n",
       "      <td>...</td>\n",
       "      <td>...</td>\n",
       "      <td>...</td>\n",
       "      <td>...</td>\n",
       "    </tr>\n",
       "    <tr>\n",
       "      <th>69499</th>\n",
       "      <td>편의점 구합니다 일매150이상 구합니다 화성 평택 오산 안성 근처 이신분 쪽지 주세...</td>\n",
       "      <td>NaN</td>\n",
       "      <td>NaN</td>\n",
       "      <td>NaN</td>\n",
       "    </tr>\n",
       "    <tr>\n",
       "      <th>33669</th>\n",
       "      <td>부동산에 가게를 내놓을려고 할때 부동산에 양도양수나 권리금 걸어놓고 임대를 내놓으려...</td>\n",
       "      <td>NaN</td>\n",
       "      <td>NaN</td>\n",
       "      <td>NaN</td>\n",
       "    </tr>\n",
       "    <tr>\n",
       "      <th>35092</th>\n",
       "      <td>하루 일하고 안나온 직원 임금 계산 안나오고 잠수타더니 돈보내라네요. 최저임금으로 ...</td>\n",
       "      <td>NaN</td>\n",
       "      <td>NaN</td>\n",
       "      <td>NaN</td>\n",
       "    </tr>\n",
       "    <tr>\n",
       "      <th>37516</th>\n",
       "      <td>희망회복자금,, 좀 봐주세요 저는 4월중순에 분식집을 오픈했어요. 저희지역은 코로나...</td>\n",
       "      <td>NaN</td>\n",
       "      <td>NaN</td>\n",
       "      <td>NaN</td>\n",
       "    </tr>\n",
       "    <tr>\n",
       "      <th>11397</th>\n",
       "      <td>정신건강을 위해..일찍 문닫고 집에 갑니다 ㅎ 오픈 한지 2년 조금 넘었는데.. 오...</td>\n",
       "      <td>NaN</td>\n",
       "      <td>NaN</td>\n",
       "      <td>NaN</td>\n",
       "    </tr>\n",
       "  </tbody>\n",
       "</table>\n",
       "<p>1538 rows × 4 columns</p>\n",
       "</div>"
      ],
      "text/plain": [
       "                                                  review  코더A  코더B  코더C\n",
       "35149  다이소에서 사면 후회하는것들... 개인적으로 다이소 많이 이용하는데 후회하는 물건이...  NaN  NaN  NaN\n",
       "75765  과일 장사는 어떨까요?? 창업하려 하는데.. 프렌차이즈 과일 장사는 어떨까요?? 많...  NaN  NaN  NaN\n",
       "41061  매출감소만 확인되면 100만원지급? 어제 퇴근하고 뉴스를 보는데 방역지원금 100만...  NaN  NaN  NaN\n",
       "19677  미라클 모닝d+75 안녕 나의 하루~ #모닝뮤직🎶 지누션\"A-YO\" \"열받지 가끔씩...  NaN  NaN  NaN\n",
       "60678  휴대폰창업 휴대폰매장 창업하려고 하는데 다들 어떻게 생각하시나요 전 기본적으로 비추...  NaN  NaN  NaN\n",
       "...                                                  ...  ...  ...  ...\n",
       "69499  편의점 구합니다 일매150이상 구합니다 화성 평택 오산 안성 근처 이신분 쪽지 주세...  NaN  NaN  NaN\n",
       "33669  부동산에 가게를 내놓을려고 할때 부동산에 양도양수나 권리금 걸어놓고 임대를 내놓으려...  NaN  NaN  NaN\n",
       "35092  하루 일하고 안나온 직원 임금 계산 안나오고 잠수타더니 돈보내라네요. 최저임금으로 ...  NaN  NaN  NaN\n",
       "37516  희망회복자금,, 좀 봐주세요 저는 4월중순에 분식집을 오픈했어요. 저희지역은 코로나...  NaN  NaN  NaN\n",
       "11397  정신건강을 위해..일찍 문닫고 집에 갑니다 ㅎ 오픈 한지 2년 조금 넘었는데.. 오...  NaN  NaN  NaN\n",
       "\n",
       "[1538 rows x 4 columns]"
      ]
     },
     "execution_count": 23,
     "metadata": {},
     "output_type": "execute_result"
    }
   ],
   "source": [
    "df_asa_sample"
   ]
  },
  {
   "cell_type": "code",
   "execution_count": 24,
   "id": "e5a8fd9c",
   "metadata": {},
   "outputs": [
    {
     "data": {
      "text/html": [
       "<div>\n",
       "<style scoped>\n",
       "    .dataframe tbody tr th:only-of-type {\n",
       "        vertical-align: middle;\n",
       "    }\n",
       "\n",
       "    .dataframe tbody tr th {\n",
       "        vertical-align: top;\n",
       "    }\n",
       "\n",
       "    .dataframe thead th {\n",
       "        text-align: right;\n",
       "    }\n",
       "</style>\n",
       "<table border=\"1\" class=\"dataframe\">\n",
       "  <thead>\n",
       "    <tr style=\"text-align: right;\">\n",
       "      <th></th>\n",
       "      <th>review</th>\n",
       "      <th>코더A</th>\n",
       "      <th>코더B</th>\n",
       "      <th>코더C</th>\n",
       "    </tr>\n",
       "  </thead>\n",
       "  <tbody>\n",
       "    <tr>\n",
       "      <th>40090</th>\n",
       "      <td>스마트스토어 여성의류 : ) 스마트스토어 여성의류 이제 3개월차 되어가고 있습니다....</td>\n",
       "      <td>NaN</td>\n",
       "      <td>NaN</td>\n",
       "      <td>NaN</td>\n",
       "    </tr>\n",
       "    <tr>\n",
       "      <th>200127</th>\n",
       "      <td>스토어팜 정보 검색으로 가입하게 되었습니다 잘 반갑습니다 반갑습니다 반가워요</td>\n",
       "      <td>NaN</td>\n",
       "      <td>NaN</td>\n",
       "      <td>NaN</td>\n",
       "    </tr>\n",
       "    <tr>\n",
       "      <th>26875</th>\n",
       "      <td>오픈마켓별 수수료 정리 공유 드려요~ 아시는 것처럼, 쇼핑몰/카테고리 별로 수수료가...</td>\n",
       "      <td>NaN</td>\n",
       "      <td>NaN</td>\n",
       "      <td>NaN</td>\n",
       "    </tr>\n",
       "    <tr>\n",
       "      <th>169612</th>\n",
       "      <td>택배사 cj랑 롯데중에 뭐가 더 배송이 빠를까요 이제 막 시작하는 초보셀러 입니다 ...</td>\n",
       "      <td>NaN</td>\n",
       "      <td>NaN</td>\n",
       "      <td>NaN</td>\n",
       "    </tr>\n",
       "    <tr>\n",
       "      <th>63912</th>\n",
       "      <td>산지배송)맛있는 제주도 서귀포 귤 도매 (위탁판매가능 거래전에 먼저 연락처등 검색 ...</td>\n",
       "      <td>NaN</td>\n",
       "      <td>NaN</td>\n",
       "      <td>NaN</td>\n",
       "    </tr>\n",
       "    <tr>\n",
       "      <th>...</th>\n",
       "      <td>...</td>\n",
       "      <td>...</td>\n",
       "      <td>...</td>\n",
       "      <td>...</td>\n",
       "    </tr>\n",
       "    <tr>\n",
       "      <th>162672</th>\n",
       "      <td>타오바오 결제 카드등록이 안되요 도와주세요 타오바오 카드결제 할랬더니 문제가 계속 ...</td>\n",
       "      <td>NaN</td>\n",
       "      <td>NaN</td>\n",
       "      <td>NaN</td>\n",
       "    </tr>\n",
       "    <tr>\n",
       "      <th>193849</th>\n",
       "      <td>스마트스토어 창업 준비중입니다 잘 반가워요 반갑습니다 안녕하세여 반갑습니다 반가워용...</td>\n",
       "      <td>NaN</td>\n",
       "      <td>NaN</td>\n",
       "      <td>NaN</td>\n",
       "    </tr>\n",
       "    <tr>\n",
       "      <th>155608</th>\n",
       "      <td>이랬을때 생기는 문제 뭐가 있을까요 제가 쿠팡 정지고 해서 어차피 다른사업자 있는 ...</td>\n",
       "      <td>NaN</td>\n",
       "      <td>NaN</td>\n",
       "      <td>NaN</td>\n",
       "    </tr>\n",
       "    <tr>\n",
       "      <th>3033</th>\n",
       "      <td>쿠팡의 갑질(정시배송+24시간내응대+상담원의양심) 판매일 한지는 10여년되는거같네요...</td>\n",
       "      <td>NaN</td>\n",
       "      <td>NaN</td>\n",
       "      <td>NaN</td>\n",
       "    </tr>\n",
       "    <tr>\n",
       "      <th>24469</th>\n",
       "      <td>쿠팡 개떡같은 시스템 때문에 제휴 입고도 못시키네요 아니 쿠팡 시스템은 왜이리 말썽...</td>\n",
       "      <td>NaN</td>\n",
       "      <td>NaN</td>\n",
       "      <td>NaN</td>\n",
       "    </tr>\n",
       "  </tbody>\n",
       "</table>\n",
       "<p>2694 rows × 4 columns</p>\n",
       "</div>"
      ],
      "text/plain": [
       "                                                   review  코더A  코더B  코더C\n",
       "40090   스마트스토어 여성의류 : ) 스마트스토어 여성의류 이제 3개월차 되어가고 있습니다....  NaN  NaN  NaN\n",
       "200127         스토어팜 정보 검색으로 가입하게 되었습니다 잘 반갑습니다 반갑습니다 반가워요  NaN  NaN  NaN\n",
       "26875   오픈마켓별 수수료 정리 공유 드려요~ 아시는 것처럼, 쇼핑몰/카테고리 별로 수수료가...  NaN  NaN  NaN\n",
       "169612  택배사 cj랑 롯데중에 뭐가 더 배송이 빠를까요 이제 막 시작하는 초보셀러 입니다 ...  NaN  NaN  NaN\n",
       "63912   산지배송)맛있는 제주도 서귀포 귤 도매 (위탁판매가능 거래전에 먼저 연락처등 검색 ...  NaN  NaN  NaN\n",
       "...                                                   ...  ...  ...  ...\n",
       "162672  타오바오 결제 카드등록이 안되요 도와주세요 타오바오 카드결제 할랬더니 문제가 계속 ...  NaN  NaN  NaN\n",
       "193849  스마트스토어 창업 준비중입니다 잘 반가워요 반갑습니다 안녕하세여 반갑습니다 반가워용...  NaN  NaN  NaN\n",
       "155608  이랬을때 생기는 문제 뭐가 있을까요 제가 쿠팡 정지고 해서 어차피 다른사업자 있는 ...  NaN  NaN  NaN\n",
       "3033    쿠팡의 갑질(정시배송+24시간내응대+상담원의양심) 판매일 한지는 10여년되는거같네요...  NaN  NaN  NaN\n",
       "24469   쿠팡 개떡같은 시스템 때문에 제휴 입고도 못시키네요 아니 쿠팡 시스템은 왜이리 말썽...  NaN  NaN  NaN\n",
       "\n",
       "[2694 rows x 4 columns]"
      ]
     },
     "execution_count": 24,
     "metadata": {},
     "output_type": "execute_result"
    }
   ],
   "source": [
    "df_sell_sample"
   ]
  },
  {
   "cell_type": "code",
   "execution_count": 25,
   "id": "d1dbb711",
   "metadata": {},
   "outputs": [],
   "source": [
    "df_acknow_sample1 = df_acknow_sample[:1638]"
   ]
  },
  {
   "cell_type": "code",
   "execution_count": 26,
   "id": "72728abd",
   "metadata": {},
   "outputs": [],
   "source": [
    "df_acknow_sample2 = df_acknow_sample[1638:2363]"
   ]
  },
  {
   "cell_type": "code",
   "execution_count": 27,
   "id": "f3e6e3fe",
   "metadata": {},
   "outputs": [],
   "source": [
    "df_acknow_sample3 = df_acknow_sample[2363:]"
   ]
  },
  {
   "cell_type": "markdown",
   "id": "30ae1d91",
   "metadata": {},
   "source": [
    "### CSV 파일로 저장"
   ]
  },
  {
   "cell_type": "code",
   "execution_count": 28,
   "id": "aabcfea3",
   "metadata": {},
   "outputs": [],
   "source": [
    "df_brunch_sample.to_csv('브런치_라벨링.csv', encoding = 'utf-8-sig')\n",
    "df_asa_sample.to_csv('아싸_라벨링.csv', encoding = 'utf-8-sig')\n",
    "df_sell_sample.to_csv('셀러오션_라벨링.csv', encoding = 'utf-8-sig')\n",
    "df_acknow_sample1.to_csv('지식인1_라벨링.csv', encoding = 'utf-8-sig')\n",
    "df_acknow_sample2.to_csv('지식인2_라벨링.csv', encoding = 'utf-8-sig')\n",
    "df_acknow_sample3.to_csv('지식인3_라벨링.csv', encoding = 'utf-8-sig')\n"
   ]
  },
  {
   "cell_type": "code",
   "execution_count": 29,
   "id": "94a80733",
   "metadata": {},
   "outputs": [],
   "source": [
    "df_brunch.to_csv('[KB]브런치_채널통합.csv', encoding='utf-8-sig')\n",
    "df_asa.to_csv('[KB]아싸_채널통합.csv', encoding='utf-8-sig')\n",
    "df_sell.to_csv('[KB]셀러오션_채널통합.csv', encoding='utf-8-sig')\n",
    "df_acknow.to_csv('[KB]지식인_채널통합.csv', encoding='utf-8-sig')"
   ]
  },
  {
   "cell_type": "code",
   "execution_count": null,
   "id": "72c920cf",
   "metadata": {},
   "outputs": [],
   "source": []
  },
  {
   "cell_type": "code",
   "execution_count": null,
   "id": "8bbdf577",
   "metadata": {},
   "outputs": [],
   "source": []
  },
  {
   "cell_type": "markdown",
   "id": "232b326b",
   "metadata": {},
   "source": [
    "## Test 데이터파일 생성"
   ]
  },
  {
   "cell_type": "code",
   "execution_count": 30,
   "id": "5167a1e2",
   "metadata": {},
   "outputs": [],
   "source": [
    "bs = df_brunch_sample.index"
   ]
  },
  {
   "cell_type": "code",
   "execution_count": 31,
   "id": "34258463",
   "metadata": {},
   "outputs": [
    {
     "data": {
      "text/html": [
       "<div>\n",
       "<style scoped>\n",
       "    .dataframe tbody tr th:only-of-type {\n",
       "        vertical-align: middle;\n",
       "    }\n",
       "\n",
       "    .dataframe tbody tr th {\n",
       "        vertical-align: top;\n",
       "    }\n",
       "\n",
       "    .dataframe thead th {\n",
       "        text-align: right;\n",
       "    }\n",
       "</style>\n",
       "<table border=\"1\" class=\"dataframe\">\n",
       "  <thead>\n",
       "    <tr style=\"text-align: right;\">\n",
       "      <th></th>\n",
       "      <th>review</th>\n",
       "    </tr>\n",
       "  </thead>\n",
       "  <tbody>\n",
       "    <tr>\n",
       "      <th>0</th>\n",
       "      <td>올해 월 알제리 여행갈려고 합니다 여자친구한데 도움을 받고 알제 위주로 다닐텐데 현...</td>\n",
       "    </tr>\n",
       "    <tr>\n",
       "      <th>1</th>\n",
       "      <td>일본에서 결혼 할 수 있을까요 feat 일본인 여자친구 안녕하세요 세 토종 한국인 ...</td>\n",
       "    </tr>\n",
       "    <tr>\n",
       "      <th>2</th>\n",
       "      <td>헤어진 여자친구를 다시 잡고싶어요 안녕하세요 올해로 된 남자입니다 여자친구는 올해로...</td>\n",
       "    </tr>\n",
       "    <tr>\n",
       "      <th>3</th>\n",
       "      <td>결혼 계획을 세우고 있는데 여자친구가 아버지 사업으로인한 신용불량자 상태 입니다 혼...</td>\n",
       "    </tr>\n",
       "    <tr>\n",
       "      <th>4</th>\n",
       "      <td>저도 여자친구 사귈수있나요 안녕하세요 년생 살 모태솔로입니다 제가 살면서 친구 여자...</td>\n",
       "    </tr>\n",
       "    <tr>\n",
       "      <th>...</th>\n",
       "      <td>...</td>\n",
       "    </tr>\n",
       "    <tr>\n",
       "      <th>289938</th>\n",
       "      <td>아산 문의 저번주에 뭐떼야 하는데 아산 구경찰서 어디 인가요</td>\n",
       "    </tr>\n",
       "    <tr>\n",
       "      <th>289939</th>\n",
       "      <td>내공 빈티지 옷인데 정보 좀 알려주세요</td>\n",
       "    </tr>\n",
       "    <tr>\n",
       "      <th>289940</th>\n",
       "      <td>재래시장가서 쑥가루랑 흑임자가루랑 콩가루사려면 떡집찾아가면된나요 아니면 다른 빼는...</td>\n",
       "    </tr>\n",
       "    <tr>\n",
       "      <th>289941</th>\n",
       "      <td>년대 빈티지 컵 포도송이 펀칭글라스 브랜드 이름을 알 수 있을까요 쿠팡같은 광고는...</td>\n",
       "    </tr>\n",
       "    <tr>\n",
       "      <th>289942</th>\n",
       "      <td>빈티지샵 폴로 둘다 가품일까요 정품이라고 써두긴 했는데 좀 찝찝해서요 폴로 홈페이지...</td>\n",
       "    </tr>\n",
       "  </tbody>\n",
       "</table>\n",
       "<p>289107 rows × 1 columns</p>\n",
       "</div>"
      ],
      "text/plain": [
       "                                                   review\n",
       "0       올해 월 알제리 여행갈려고 합니다 여자친구한데 도움을 받고 알제 위주로 다닐텐데 현...\n",
       "1       일본에서 결혼 할 수 있을까요 feat 일본인 여자친구 안녕하세요 세 토종 한국인 ...\n",
       "2       헤어진 여자친구를 다시 잡고싶어요 안녕하세요 올해로 된 남자입니다 여자친구는 올해로...\n",
       "3       결혼 계획을 세우고 있는데 여자친구가 아버지 사업으로인한 신용불량자 상태 입니다 혼...\n",
       "4       저도 여자친구 사귈수있나요 안녕하세요 년생 살 모태솔로입니다 제가 살면서 친구 여자...\n",
       "...                                                   ...\n",
       "289938                 아산 문의 저번주에 뭐떼야 하는데 아산 구경찰서 어디 인가요 \n",
       "289939                             내공 빈티지 옷인데 정보 좀 알려주세요 \n",
       "289940   재래시장가서 쑥가루랑 흑임자가루랑 콩가루사려면 떡집찾아가면된나요 아니면 다른 빼는...\n",
       "289941   년대 빈티지 컵 포도송이 펀칭글라스 브랜드 이름을 알 수 있을까요 쿠팡같은 광고는...\n",
       "289942  빈티지샵 폴로 둘다 가품일까요 정품이라고 써두긴 했는데 좀 찝찝해서요 폴로 홈페이지...\n",
       "\n",
       "[289107 rows x 1 columns]"
      ]
     },
     "execution_count": 31,
     "metadata": {},
     "output_type": "execute_result"
    }
   ],
   "source": [
    "df_acknow"
   ]
  },
  {
   "cell_type": "code",
   "execution_count": 32,
   "id": "b73d4fb2",
   "metadata": {},
   "outputs": [],
   "source": [
    "df_brunch_test = df_brunch.drop(df_brunch_sample.index)\n",
    "df_asa_test = df_asa.drop(df_asa_sample.index)\n",
    "df_sell_test = df_sell.drop(df_sell_sample.index)\n",
    "df_acknow_test = df_acknow.drop(df_acknow_sample.index)"
   ]
  },
  {
   "cell_type": "code",
   "execution_count": 33,
   "id": "da896f76",
   "metadata": {},
   "outputs": [],
   "source": [
    "test_all = pd.concat([df_brunch_test, df_asa_test, df_sell_test, df_acknow_test], axis=0)"
   ]
  },
  {
   "cell_type": "code",
   "execution_count": 34,
   "id": "37b44402",
   "metadata": {},
   "outputs": [],
   "source": [
    "test_all.to_csv('test_all.csv', encoding='utf-8-sig')"
   ]
  },
  {
   "cell_type": "code",
   "execution_count": null,
   "id": "86f2d89c",
   "metadata": {},
   "outputs": [],
   "source": []
  },
  {
   "cell_type": "markdown",
   "id": "e35b6e71",
   "metadata": {},
   "source": [
    "## 추가 전처리"
   ]
  },
  {
   "cell_type": "code",
   "execution_count": 35,
   "id": "cbebd1aa",
   "metadata": {},
   "outputs": [
    {
     "data": {
      "text/html": [
       "<div>\n",
       "<style scoped>\n",
       "    .dataframe tbody tr th:only-of-type {\n",
       "        vertical-align: middle;\n",
       "    }\n",
       "\n",
       "    .dataframe tbody tr th {\n",
       "        vertical-align: top;\n",
       "    }\n",
       "\n",
       "    .dataframe thead th {\n",
       "        text-align: right;\n",
       "    }\n",
       "</style>\n",
       "<table border=\"1\" class=\"dataframe\">\n",
       "  <thead>\n",
       "    <tr style=\"text-align: right;\">\n",
       "      <th></th>\n",
       "      <th>review</th>\n",
       "      <th>코더A</th>\n",
       "      <th>코더B</th>\n",
       "      <th>코더C</th>\n",
       "    </tr>\n",
       "  </thead>\n",
       "  <tbody>\n",
       "    <tr>\n",
       "      <th>0</th>\n",
       "      <td>프리패스  상황에 맞는 OOTD가 이렇게나 중요하다 택배박스도 보여주고 어디 ...</td>\n",
       "      <td>NaN</td>\n",
       "      <td>NaN</td>\n",
       "      <td>NaN</td>\n",
       "    </tr>\n",
       "    <tr>\n",
       "      <th>1</th>\n",
       "      <td>틈은 흠일까  지난 시간들을 돌이켜 보면 나는 원래 틈이 많은 사람이었다  손해를 ...</td>\n",
       "      <td>NaN</td>\n",
       "      <td>NaN</td>\n",
       "      <td>NaN</td>\n",
       "    </tr>\n",
       "    <tr>\n",
       "      <th>2</th>\n",
       "      <td>무인모텔     계속</td>\n",
       "      <td>NaN</td>\n",
       "      <td>NaN</td>\n",
       "      <td>NaN</td>\n",
       "    </tr>\n",
       "    <tr>\n",
       "      <th>3</th>\n",
       "      <td>무인문구점  그게 되겠어      아이가 생기고 나서는 주말은 온전히 아이를 위한 ...</td>\n",
       "      <td>NaN</td>\n",
       "      <td>NaN</td>\n",
       "      <td>NaN</td>\n",
       "    </tr>\n",
       "    <tr>\n",
       "      <th>4</th>\n",
       "      <td>무인키즈카페 창업일기  편  상가 인테리어 계약</td>\n",
       "      <td>NaN</td>\n",
       "      <td>NaN</td>\n",
       "      <td>NaN</td>\n",
       "    </tr>\n",
       "    <tr>\n",
       "      <th>...</th>\n",
       "      <td>...</td>\n",
       "      <td>...</td>\n",
       "      <td>...</td>\n",
       "      <td>...</td>\n",
       "    </tr>\n",
       "    <tr>\n",
       "      <th>289938</th>\n",
       "      <td>아산 문의 저번주에 뭐떼야 하는데 아산 구경찰서 어디 인가요</td>\n",
       "      <td>NaN</td>\n",
       "      <td>NaN</td>\n",
       "      <td>NaN</td>\n",
       "    </tr>\n",
       "    <tr>\n",
       "      <th>289939</th>\n",
       "      <td>내공 빈티지 옷인데 정보 좀 알려주세요</td>\n",
       "      <td>NaN</td>\n",
       "      <td>NaN</td>\n",
       "      <td>NaN</td>\n",
       "    </tr>\n",
       "    <tr>\n",
       "      <th>289940</th>\n",
       "      <td>재래시장가서 쑥가루랑 흑임자가루랑 콩가루사려면 떡집찾아가면된나요 아니면 다른 빼는...</td>\n",
       "      <td>NaN</td>\n",
       "      <td>NaN</td>\n",
       "      <td>NaN</td>\n",
       "    </tr>\n",
       "    <tr>\n",
       "      <th>289941</th>\n",
       "      <td>년대 빈티지 컵 포도송이 펀칭글라스 브랜드 이름을 알 수 있을까요 쿠팡같은 광고는...</td>\n",
       "      <td>NaN</td>\n",
       "      <td>NaN</td>\n",
       "      <td>NaN</td>\n",
       "    </tr>\n",
       "    <tr>\n",
       "      <th>289942</th>\n",
       "      <td>빈티지샵 폴로 둘다 가품일까요 정품이라고 써두긴 했는데 좀 찝찝해서요 폴로 홈페이지...</td>\n",
       "      <td>NaN</td>\n",
       "      <td>NaN</td>\n",
       "      <td>NaN</td>\n",
       "    </tr>\n",
       "  </tbody>\n",
       "</table>\n",
       "<p>502557 rows × 4 columns</p>\n",
       "</div>"
      ],
      "text/plain": [
       "                                                   review  코더A  코더B  코더C\n",
       "0          프리패스  상황에 맞는 OOTD가 이렇게나 중요하다 택배박스도 보여주고 어디 ...  NaN  NaN  NaN\n",
       "1       틈은 흠일까  지난 시간들을 돌이켜 보면 나는 원래 틈이 많은 사람이었다  손해를 ...  NaN  NaN  NaN\n",
       "2                                            무인모텔     계속   NaN  NaN  NaN\n",
       "3       무인문구점  그게 되겠어      아이가 생기고 나서는 주말은 온전히 아이를 위한 ...  NaN  NaN  NaN\n",
       "4                           무인키즈카페 창업일기  편  상가 인테리어 계약     NaN  NaN  NaN\n",
       "...                                                   ...  ...  ...  ...\n",
       "289938                 아산 문의 저번주에 뭐떼야 하는데 아산 구경찰서 어디 인가요   NaN  NaN  NaN\n",
       "289939                             내공 빈티지 옷인데 정보 좀 알려주세요   NaN  NaN  NaN\n",
       "289940   재래시장가서 쑥가루랑 흑임자가루랑 콩가루사려면 떡집찾아가면된나요 아니면 다른 빼는...  NaN  NaN  NaN\n",
       "289941   년대 빈티지 컵 포도송이 펀칭글라스 브랜드 이름을 알 수 있을까요 쿠팡같은 광고는...  NaN  NaN  NaN\n",
       "289942  빈티지샵 폴로 둘다 가품일까요 정품이라고 써두긴 했는데 좀 찝찝해서요 폴로 홈페이지...  NaN  NaN  NaN\n",
       "\n",
       "[502557 rows x 4 columns]"
      ]
     },
     "execution_count": 35,
     "metadata": {},
     "output_type": "execute_result"
    }
   ],
   "source": [
    "test_all"
   ]
  },
  {
   "cell_type": "code",
   "execution_count": null,
   "id": "2507cec0",
   "metadata": {},
   "outputs": [],
   "source": [
    "test_all.review"
   ]
  },
  {
   "cell_type": "code",
   "execution_count": null,
   "id": "0c2a7866",
   "metadata": {},
   "outputs": [],
   "source": []
  },
  {
   "cell_type": "markdown",
   "id": "57e1ca2d",
   "metadata": {},
   "source": []
  }
 ],
 "metadata": {
  "kernelspec": {
   "display_name": "Python 3 (ipykernel)",
   "language": "python",
   "name": "python3"
  },
  "language_info": {
   "codemirror_mode": {
    "name": "ipython",
    "version": 3
   },
   "file_extension": ".py",
   "mimetype": "text/x-python",
   "name": "python",
   "nbconvert_exporter": "python",
   "pygments_lexer": "ipython3",
   "version": "3.11.5"
  }
 },
 "nbformat": 4,
 "nbformat_minor": 5
}
