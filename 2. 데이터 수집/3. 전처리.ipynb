{
 "cells": [
  {
   "cell_type": "markdown",
   "id": "7a620f13",
   "metadata": {
    "id": "7a620f13"
   },
   "source": [
    "# 전처리"
   ]
  },
  {
   "cell_type": "markdown",
   "id": "8e3fe6cd",
   "metadata": {
    "id": "8e3fe6cd"
   },
   "source": [
    "## 크롤링 파일 로드"
   ]
  },
  {
   "cell_type": "code",
   "execution_count": 1,
   "id": "c8fee26a",
   "metadata": {
    "id": "c8fee26a"
   },
   "outputs": [],
   "source": [
    "from pandas import DataFrame\n",
    "import pandas as pd\n",
    "import numpy as np\n",
    "import re"
   ]
  },
  {
   "cell_type": "code",
   "execution_count": 2,
   "id": "0e8ff89a",
   "metadata": {},
   "outputs": [],
   "source": [
    "df = pd.read_csv('[KB]아싸_일반_전처리.csv')"
   ]
  },
  {
   "cell_type": "code",
   "execution_count": 3,
   "id": "1b67b647",
   "metadata": {
    "id": "1b67b647",
    "outputId": "49c9df60-d95f-46a1-a515-b859e5bfbaab"
   },
   "outputs": [
    {
     "data": {
      "text/plain": [
       "12358"
      ]
     },
     "execution_count": 3,
     "metadata": {},
     "output_type": "execute_result"
    }
   ],
   "source": [
    "#중복제거\n",
    "\n",
    "df = df.drop_duplicates(['body'], keep='first')\n",
    "df = df.reset_index(drop = True)\n",
    "len(df)"
   ]
  },
  {
   "cell_type": "code",
   "execution_count": 4,
   "id": "35f4addc",
   "metadata": {
    "id": "35f4addc"
   },
   "outputs": [],
   "source": [
    "def preprocess_text(text):\n",
    "    if isinstance(text, str):\n",
    "        text = re.sub(r'<[^>]+>', '', text)\n",
    "        text = re.sub(r'\\n', ' ', text)\n",
    "        text = re.sub(r'\\s+', ' ', text)\n",
    "\n",
    "    return text"
   ]
  },
  {
   "cell_type": "code",
   "execution_count": 5,
   "id": "cf54ef09",
   "metadata": {
    "id": "cf54ef09"
   },
   "outputs": [],
   "source": [
    "df['body'] = df['body'].apply(preprocess_text)\n",
    "df['title'] = df['title'].apply(preprocess_text)\n",
    "df['comment'] = df['comment'].apply(preprocess_text)\n",
    "df['date'] = df['date'].apply(preprocess_text)"
   ]
  },
  {
   "cell_type": "code",
   "execution_count": 6,
   "id": "b40e48db",
   "metadata": {
    "id": "b40e48db",
    "outputId": "ce065acc-9b7c-4815-92ef-8b04dd528591"
   },
   "outputs": [
    {
     "name": "stdout",
     "output_type": "stream",
     "text": [
      "<class 'pandas.core.frame.DataFrame'>\n",
      "RangeIndex: 12358 entries, 0 to 12357\n",
      "Data columns (total 8 columns):\n",
      " #   Column      Non-Null Count  Dtype \n",
      "---  ------      --------------  ----- \n",
      " 0   Unnamed: 0  12358 non-null  int64 \n",
      " 1   keyword     12358 non-null  object\n",
      " 2   board       12358 non-null  object\n",
      " 3   title       12351 non-null  object\n",
      " 4   body        12357 non-null  object\n",
      " 5   comment     12358 non-null  object\n",
      " 6   date        12358 non-null  object\n",
      " 7   review      12358 non-null  object\n",
      "dtypes: int64(1), object(7)\n",
      "memory usage: 772.5+ KB\n"
     ]
    }
   ],
   "source": [
    "df.info()"
   ]
  },
  {
   "cell_type": "markdown",
   "id": "3752428f",
   "metadata": {
    "id": "3752428f"
   },
   "source": [
    "## 제목, 본문, 댓글을 하나로 통합"
   ]
  },
  {
   "cell_type": "code",
   "execution_count": 7,
   "id": "de67a7df",
   "metadata": {
    "id": "de67a7df",
    "outputId": "a5932518-ab63-402e-b125-b98c219f1c27"
   },
   "outputs": [
    {
     "name": "stdout",
     "output_type": "stream",
     "text": [
      "Unnamed: 0    0\n",
      "keyword       0\n",
      "board         0\n",
      "title         7\n",
      "body          1\n",
      "comment       0\n",
      "date          0\n",
      "review        0\n",
      "dtype: int64\n"
     ]
    }
   ],
   "source": [
    "# 혹시 리뷰 중에 Null 값을 가진 샘플이 있는지 확인\n",
    "print(df.isnull().sum())"
   ]
  },
  {
   "cell_type": "code",
   "execution_count": 8,
   "id": "a0e2c1e4",
   "metadata": {
    "id": "a0e2c1e4",
    "outputId": "0ccfcf1d-2f2a-4c14-af2a-4955ef565b0a"
   },
   "outputs": [
    {
     "name": "stdout",
     "output_type": "stream",
     "text": [
      "True\n"
     ]
    }
   ],
   "source": [
    "# 위에서 Null값이 나오면 공백으로 수정 (Null 값 포함해서 doc로 합치면 Null값으로 반환됨)\n",
    "df['body'] = df['body'].fillna('')\n",
    "\n",
    "print(df.isnull().values.any()) # 제거되었는지 확인"
   ]
  },
  {
   "cell_type": "code",
   "execution_count": 9,
   "id": "ea2f427d",
   "metadata": {
    "id": "ea2f427d"
   },
   "outputs": [],
   "source": [
    "# 제목, 본문, 댓글 합쳐 하나의 document로 만들기\n",
    "\n",
    "df.loc[:,'review'] = df['title'] + ' ' + df['body'] + ' ' + df['comment']"
   ]
  },
  {
   "cell_type": "code",
   "execution_count": 10,
   "id": "b17a4df9",
   "metadata": {
    "id": "b17a4df9"
   },
   "outputs": [],
   "source": [
    "df = df.reset_index(drop=True)"
   ]
  },
  {
   "cell_type": "code",
   "execution_count": 11,
   "id": "c889b56e",
   "metadata": {
    "id": "c889b56e",
    "outputId": "8656d6cb-744f-441a-d05e-63e56b654087"
   },
   "outputs": [
    {
     "data": {
      "text/html": [
       "<div>\n",
       "<style scoped>\n",
       "    .dataframe tbody tr th:only-of-type {\n",
       "        vertical-align: middle;\n",
       "    }\n",
       "\n",
       "    .dataframe tbody tr th {\n",
       "        vertical-align: top;\n",
       "    }\n",
       "\n",
       "    .dataframe thead th {\n",
       "        text-align: right;\n",
       "    }\n",
       "</style>\n",
       "<table border=\"1\" class=\"dataframe\">\n",
       "  <thead>\n",
       "    <tr style=\"text-align: right;\">\n",
       "      <th></th>\n",
       "      <th>Unnamed: 0</th>\n",
       "      <th>keyword</th>\n",
       "      <th>board</th>\n",
       "      <th>title</th>\n",
       "      <th>body</th>\n",
       "      <th>comment</th>\n",
       "      <th>date</th>\n",
       "      <th>review</th>\n",
       "    </tr>\n",
       "  </thead>\n",
       "  <tbody>\n",
       "    <tr>\n",
       "      <th>0</th>\n",
       "      <td>0</td>\n",
       "      <td>절세</td>\n",
       "      <td>• 일반소매점·편의점 Talk</td>\n",
       "      <td>편의점 마트 전기세</td>\n",
       "      <td>두배이상 올랐나요?? 기존에 가져가는것도 얼마 안되는데 마이너스 나신분들도 많을듯...</td>\n",
       "      <td>기존에 80냈었으니까 두배이상 뛰었으면......... 다행히(?) 90냈습니다. ...</td>\n",
       "      <td>2023.02.14.</td>\n",
       "      <td>편의점 마트 전기세 두배이상 올랐나요?? 기존에 가져가는것도 얼마 안되는데 마이너스...</td>\n",
       "    </tr>\n",
       "    <tr>\n",
       "      <th>1</th>\n",
       "      <td>1</td>\n",
       "      <td>절세</td>\n",
       "      <td>• 일반소매점·편의점 Talk</td>\n",
       "      <td>5월 종합소득세 신고에서요</td>\n",
       "      <td>제가 사업자 신용카드로 발급 받아서 돈 쓴것도 지출 증빙으로 인정 되나요? 지금이라...</td>\n",
       "      <td>사업자 카드아니여도 홈택스에 등록하시면 됩니다. 네 정보 감사합니다. 잊고 있었네요...</td>\n",
       "      <td>2023.02.10.</td>\n",
       "      <td>5월 종합소득세 신고에서요 제가 사업자 신용카드로 발급 받아서 돈 쓴것도 지출 증빙...</td>\n",
       "    </tr>\n",
       "    <tr>\n",
       "      <th>2</th>\n",
       "      <td>2</td>\n",
       "      <td>절세</td>\n",
       "      <td>• 일반소매점·편의점 Talk</td>\n",
       "      <td>사장님들 저가 sns로 소매로 판매하고있는데용</td>\n",
       "      <td>저가 초보라 잘몰라용 가루쳐주세요 ㅜㅜ 사업자 등록 ㅊ통신판매업 등록은 완료했는데 ...</td>\n",
       "      <td>부가세 상반기 하반기 신고 하시고 종소세도 있어요 영수증 발행으로 매출이 잡히니까 ...</td>\n",
       "      <td>2022.09.16.</td>\n",
       "      <td>사장님들 저가 sns로 소매로 판매하고있는데용 저가 초보라 잘몰라용 가루쳐주세요 ㅜ...</td>\n",
       "    </tr>\n",
       "    <tr>\n",
       "      <th>3</th>\n",
       "      <td>3</td>\n",
       "      <td>절세</td>\n",
       "      <td>• 일반소매점·편의점 Talk</td>\n",
       "      <td>가게 오픈했습니다. 저랑 신랑이랑 둘이 할껀데요.. 작은 과일가게요.. 세무사기장료...</td>\n",
       "      <td>10만원에 부가세 별도라고 하던데요.. 인건비도 따로 나가는게 없는데 좀 비싼것 같...</td>\n",
       "      <td>가격은 천차만별이라.. 잘해주는 곳이랑 하는게 제일 좋죠;보통 8~10마넌 부가세별...</td>\n",
       "      <td>2021.12.28.</td>\n",
       "      <td>가게 오픈했습니다. 저랑 신랑이랑 둘이 할껀데요.. 작은 과일가게요.. 세무사기장료...</td>\n",
       "    </tr>\n",
       "    <tr>\n",
       "      <th>4</th>\n",
       "      <td>4</td>\n",
       "      <td>절세</td>\n",
       "      <td>• 일반소매점·편의점 Talk</td>\n",
       "      <td>편의점 새내기입니다 선배님들께 여쭤봅니다!</td>\n",
       "      <td>아싸카페에서 인정받은 유일한 마케팅회사 http://www.reviewnote.kr...</td>\n",
       "      <td>쓰면 나쁠건 없어요 꼭 써야하는건 아니구요. 조언감사합니당. 저도 바로 전화와서 현...</td>\n",
       "      <td>2021.11.17.</td>\n",
       "      <td>편의점 새내기입니다 선배님들께 여쭤봅니다! 아싸카페에서 인정받은 유일한 마케팅회사 ...</td>\n",
       "    </tr>\n",
       "    <tr>\n",
       "      <th>...</th>\n",
       "      <td>...</td>\n",
       "      <td>...</td>\n",
       "      <td>...</td>\n",
       "      <td>...</td>\n",
       "      <td>...</td>\n",
       "      <td>...</td>\n",
       "      <td>...</td>\n",
       "      <td>...</td>\n",
       "    </tr>\n",
       "    <tr>\n",
       "      <th>12353</th>\n",
       "      <td>12375</td>\n",
       "      <td>반품</td>\n",
       "      <td>• 일반소매점·편의점 Talk</td>\n",
       "      <td>팔기싫은 손님 ㅠ</td>\n",
       "      <td>저는 소매업을 하고 있습니다 이제 장사를 좀 해서 그런지 촉이와요 증~말 팔기싫은 ...</td>\n",
       "      <td>힘드시겠어요,...... 생각만 해도 아,. 네~그게 다에요~네~다른 사이즈 없어요...</td>\n",
       "      <td>2021.04.05.</td>\n",
       "      <td>팔기싫은 손님 ㅠ 저는 소매업을 하고 있습니다 이제 장사를 좀 해서 그런지 촉이와요...</td>\n",
       "    </tr>\n",
       "    <tr>\n",
       "      <th>12354</th>\n",
       "      <td>12376</td>\n",
       "      <td>반품</td>\n",
       "      <td>• 일반소매점·편의점 Talk</td>\n",
       "      <td>담배반품 언제까지 받아주시나요?</td>\n",
       "      <td>구매한지 한달넘은 담배 들고와서 반품하겠다고 하네요. 담배를 끊었다나 뭐라나... ...</td>\n",
       "      <td>법적으로 한달 아닌가요..... 저도 이건궁굼하네요 저런상황에서 해줘야하는건가요.....</td>\n",
       "      <td>2020.06.09.</td>\n",
       "      <td>담배반품 언제까지 받아주시나요? 구매한지 한달넘은 담배 들고와서 반품하겠다고 하네요...</td>\n",
       "    </tr>\n",
       "    <tr>\n",
       "      <th>12355</th>\n",
       "      <td>12377</td>\n",
       "      <td>반품</td>\n",
       "      <td>• 일반소매점·편의점 Talk</td>\n",
       "      <td>반품 할 것들은요</td>\n",
       "      <td>그냥 상온박스에 담아두면 되는건가요? 오셔서 일일이 체크하시려면 다시 빼야하는데 그...</td>\n",
       "      <td>반품전표랑 같이 박스에 두심되요. 반품전표란같이나두세여.</td>\n",
       "      <td>2020.04.17.</td>\n",
       "      <td>반품 할 것들은요 그냥 상온박스에 담아두면 되는건가요? 오셔서 일일이 체크하시려면 ...</td>\n",
       "    </tr>\n",
       "    <tr>\n",
       "      <th>12356</th>\n",
       "      <td>12378</td>\n",
       "      <td>반품</td>\n",
       "      <td>• 일반소매점·편의점 Talk</td>\n",
       "      <td>유통기한지난식품판매</td>\n",
       "      <td>안녕하세요~ 몇일전 부주의로 유통기한이 지난 라면2개를 팔게 되었네요.. 사과도 했...</td>\n",
       "      <td>합의하세요. 돈을주시는게낳아요..벌금금액이더큽니다.</td>\n",
       "      <td>2020.01.28.</td>\n",
       "      <td>유통기한지난식품판매 안녕하세요~ 몇일전 부주의로 유통기한이 지난 라면2개를 팔게 되...</td>\n",
       "    </tr>\n",
       "    <tr>\n",
       "      <th>12357</th>\n",
       "      <td>12379</td>\n",
       "      <td>반품</td>\n",
       "      <td>• 일반소매점·편의점 Talk</td>\n",
       "      <td>편돌이사장님 질문보고 저도 퇴근전 문득 질문이요~</td>\n",
       "      <td>이제 3년차 접어들은 소형슈퍼 새내기 입니다 유통기한 임박제품 땡처리해도 지나버린 ...</td>\n",
       "      <td>식품류가 실제 소비기한은 긴게 많아서 그냥 버리긴아깝더라구요ㅜㅜ설명잘해드리고 드리긴...</td>\n",
       "      <td>2019.01.06.</td>\n",
       "      <td>편돌이사장님 질문보고 저도 퇴근전 문득 질문이요~ 이제 3년차 접어들은 소형슈퍼 새...</td>\n",
       "    </tr>\n",
       "  </tbody>\n",
       "</table>\n",
       "<p>12358 rows × 8 columns</p>\n",
       "</div>"
      ],
      "text/plain": [
       "       Unnamed: 0 keyword             board  \\\n",
       "0               0      절세  • 일반소매점·편의점 Talk   \n",
       "1               1      절세  • 일반소매점·편의점 Talk   \n",
       "2               2      절세  • 일반소매점·편의점 Talk   \n",
       "3               3      절세  • 일반소매점·편의점 Talk   \n",
       "4               4      절세  • 일반소매점·편의점 Talk   \n",
       "...           ...     ...               ...   \n",
       "12353       12375      반품  • 일반소매점·편의점 Talk   \n",
       "12354       12376      반품  • 일반소매점·편의점 Talk   \n",
       "12355       12377      반품  • 일반소매점·편의점 Talk   \n",
       "12356       12378      반품  • 일반소매점·편의점 Talk   \n",
       "12357       12379      반품  • 일반소매점·편의점 Talk   \n",
       "\n",
       "                                                   title  \\\n",
       "0                                             편의점 마트 전기세   \n",
       "1                                         5월 종합소득세 신고에서요   \n",
       "2                              사장님들 저가 sns로 소매로 판매하고있는데용   \n",
       "3      가게 오픈했습니다. 저랑 신랑이랑 둘이 할껀데요.. 작은 과일가게요.. 세무사기장료...   \n",
       "4                                편의점 새내기입니다 선배님들께 여쭤봅니다!   \n",
       "...                                                  ...   \n",
       "12353                                          팔기싫은 손님 ㅠ   \n",
       "12354                                  담배반품 언제까지 받아주시나요?   \n",
       "12355                                          반품 할 것들은요   \n",
       "12356                                         유통기한지난식품판매   \n",
       "12357                        편돌이사장님 질문보고 저도 퇴근전 문득 질문이요~   \n",
       "\n",
       "                                                    body  \\\n",
       "0       두배이상 올랐나요?? 기존에 가져가는것도 얼마 안되는데 마이너스 나신분들도 많을듯...   \n",
       "1      제가 사업자 신용카드로 발급 받아서 돈 쓴것도 지출 증빙으로 인정 되나요? 지금이라...   \n",
       "2      저가 초보라 잘몰라용 가루쳐주세요 ㅜㅜ 사업자 등록 ㅊ통신판매업 등록은 완료했는데 ...   \n",
       "3      10만원에 부가세 별도라고 하던데요.. 인건비도 따로 나가는게 없는데 좀 비싼것 같...   \n",
       "4      아싸카페에서 인정받은 유일한 마케팅회사 http://www.reviewnote.kr...   \n",
       "...                                                  ...   \n",
       "12353  저는 소매업을 하고 있습니다 이제 장사를 좀 해서 그런지 촉이와요 증~말 팔기싫은 ...   \n",
       "12354  구매한지 한달넘은 담배 들고와서 반품하겠다고 하네요. 담배를 끊었다나 뭐라나... ...   \n",
       "12355  그냥 상온박스에 담아두면 되는건가요? 오셔서 일일이 체크하시려면 다시 빼야하는데 그...   \n",
       "12356  안녕하세요~ 몇일전 부주의로 유통기한이 지난 라면2개를 팔게 되었네요.. 사과도 했...   \n",
       "12357  이제 3년차 접어들은 소형슈퍼 새내기 입니다 유통기한 임박제품 땡처리해도 지나버린 ...   \n",
       "\n",
       "                                                 comment         date  \\\n",
       "0      기존에 80냈었으니까 두배이상 뛰었으면......... 다행히(?) 90냈습니다. ...  2023.02.14.   \n",
       "1      사업자 카드아니여도 홈택스에 등록하시면 됩니다. 네 정보 감사합니다. 잊고 있었네요...  2023.02.10.   \n",
       "2      부가세 상반기 하반기 신고 하시고 종소세도 있어요 영수증 발행으로 매출이 잡히니까 ...  2022.09.16.   \n",
       "3      가격은 천차만별이라.. 잘해주는 곳이랑 하는게 제일 좋죠;보통 8~10마넌 부가세별...  2021.12.28.   \n",
       "4      쓰면 나쁠건 없어요 꼭 써야하는건 아니구요. 조언감사합니당. 저도 바로 전화와서 현...  2021.11.17.   \n",
       "...                                                  ...          ...   \n",
       "12353  힘드시겠어요,...... 생각만 해도 아,. 네~그게 다에요~네~다른 사이즈 없어요...  2021.04.05.   \n",
       "12354  법적으로 한달 아닌가요..... 저도 이건궁굼하네요 저런상황에서 해줘야하는건가요.....  2020.06.09.   \n",
       "12355                   반품전표랑 같이 박스에 두심되요. 반품전표란같이나두세여.   2020.04.17.   \n",
       "12356                      합의하세요. 돈을주시는게낳아요..벌금금액이더큽니다.   2020.01.28.   \n",
       "12357  식품류가 실제 소비기한은 긴게 많아서 그냥 버리긴아깝더라구요ㅜㅜ설명잘해드리고 드리긴...  2019.01.06.   \n",
       "\n",
       "                                                  review  \n",
       "0      편의점 마트 전기세 두배이상 올랐나요?? 기존에 가져가는것도 얼마 안되는데 마이너스...  \n",
       "1      5월 종합소득세 신고에서요 제가 사업자 신용카드로 발급 받아서 돈 쓴것도 지출 증빙...  \n",
       "2      사장님들 저가 sns로 소매로 판매하고있는데용 저가 초보라 잘몰라용 가루쳐주세요 ㅜ...  \n",
       "3      가게 오픈했습니다. 저랑 신랑이랑 둘이 할껀데요.. 작은 과일가게요.. 세무사기장료...  \n",
       "4      편의점 새내기입니다 선배님들께 여쭤봅니다! 아싸카페에서 인정받은 유일한 마케팅회사 ...  \n",
       "...                                                  ...  \n",
       "12353  팔기싫은 손님 ㅠ 저는 소매업을 하고 있습니다 이제 장사를 좀 해서 그런지 촉이와요...  \n",
       "12354  담배반품 언제까지 받아주시나요? 구매한지 한달넘은 담배 들고와서 반품하겠다고 하네요...  \n",
       "12355  반품 할 것들은요 그냥 상온박스에 담아두면 되는건가요? 오셔서 일일이 체크하시려면 ...  \n",
       "12356  유통기한지난식품판매 안녕하세요~ 몇일전 부주의로 유통기한이 지난 라면2개를 팔게 되...  \n",
       "12357  편돌이사장님 질문보고 저도 퇴근전 문득 질문이요~ 이제 3년차 접어들은 소형슈퍼 새...  \n",
       "\n",
       "[12358 rows x 8 columns]"
      ]
     },
     "execution_count": 11,
     "metadata": {},
     "output_type": "execute_result"
    }
   ],
   "source": [
    "df"
   ]
  },
  {
   "cell_type": "code",
   "execution_count": 12,
   "id": "99e57e38",
   "metadata": {
    "id": "99e57e38"
   },
   "outputs": [],
   "source": [
    "df_doc = df.review # document 로 합친 부분만 새로운 변수에 저장해준다."
   ]
  },
  {
   "cell_type": "code",
   "execution_count": 13,
   "id": "fe12d610",
   "metadata": {
    "id": "fe12d610",
    "outputId": "f73c4fcf-fe25-4c12-89de-4d7362782c15"
   },
   "outputs": [
    {
     "data": {
      "text/plain": [
       "250      간이과세자 월세 올해 창업한 간이사업자인데 월세 납부를 부가세없이 내는것이 좋을까요...\n",
       "251      편의점배분율궁금 사장님들ㅡ궁금해서물어봅니다 편의점본사와의비율이 7대3,8대2 이뜻은...\n",
       "252      비씨카드 고객센터 상담원 연결이 안 되요ㅠㅠㅠㅠ 방법이 없을까요?? CCTV로 여자...\n",
       "253      정육 이랑 아이스크림 아싸카페에서 인정받은 유일한 마케팅회사 http://www.r...\n",
       "254      방역지원금 부지급 아싸카페에서 인정받은 유일한 마케팅회사 http://www.rev...\n",
       "                               ...                        \n",
       "12353    팔기싫은 손님 ㅠ 저는 소매업을 하고 있습니다 이제 장사를 좀 해서 그런지 촉이와요...\n",
       "12354    담배반품 언제까지 받아주시나요? 구매한지 한달넘은 담배 들고와서 반품하겠다고 하네요...\n",
       "12355    반품 할 것들은요 그냥 상온박스에 담아두면 되는건가요? 오셔서 일일이 체크하시려면 ...\n",
       "12356    유통기한지난식품판매 안녕하세요~ 몇일전 부주의로 유통기한이 지난 라면2개를 팔게 되...\n",
       "12357    편돌이사장님 질문보고 저도 퇴근전 문득 질문이요~ 이제 3년차 접어들은 소형슈퍼 새...\n",
       "Name: review, Length: 12108, dtype: object"
      ]
     },
     "execution_count": 13,
     "metadata": {},
     "output_type": "execute_result"
    }
   ],
   "source": [
    "df_doc[250:]"
   ]
  },
  {
   "cell_type": "markdown",
   "id": "0a3b72f9",
   "metadata": {
    "id": "0a3b72f9"
   },
   "source": [
    "## 광고글을 삭제하기 위해 특정 단어가 들어간 행을 전체 삭제한다"
   ]
  },
  {
   "cell_type": "code",
   "execution_count": 14,
   "id": "19897710",
   "metadata": {
    "id": "19897710",
    "outputId": "393518cc-07a8-403a-aece-49afaf90bea8"
   },
   "outputs": [
    {
     "name": "stderr",
     "output_type": "stream",
     "text": [
      "C:\\Users\\tinac\\AppData\\Local\\Temp\\ipykernel_8200\\1058786048.py:4: UserWarning: This pattern is interpreted as a regular expression, and has match groups. To actually get the groups, use str.extract.\n",
      "  delete = df['review'].str.contains(pattern)\n"
     ]
    }
   ],
   "source": [
    "words_to_delete = ['[기사]', '(웃픈글)']\n",
    "pattern = '|'.join(words_to_delete)\n",
    "\n",
    "delete = df['review'].str.contains(pattern)"
   ]
  },
  {
   "cell_type": "code",
   "execution_count": null,
   "id": "0cd4cf75",
   "metadata": {
    "id": "0cd4cf75",
    "outputId": "6d79a0c3-ee3d-450b-a25b-f02d42064036"
   },
   "outputs": [],
   "source": [
    "df['review'][df.index[delete]] #삭제할 행 확인"
   ]
  },
  {
   "cell_type": "code",
   "execution_count": null,
   "id": "4543eeea",
   "metadata": {
    "id": "4543eeea",
    "outputId": "6967295b-1613-4bb5-9a06-fe8c17d81214"
   },
   "outputs": [],
   "source": [
    "df_doc.drop(df_doc.index[delete], inplace = True)\n",
    "df_doc = df_doc.reset_index(drop=True)\n",
    "df_doc"
   ]
  },
  {
   "cell_type": "markdown",
   "id": "94dd0f6f",
   "metadata": {
    "id": "94dd0f6f"
   },
   "source": [
    "### 반복되는 문장은 삭제해준다. (잘못된 분석 결과를 야기할 수 있기 때문에)\n",
    "- 이는 크롤링 대상 카페/게시판/블로그/커뮤니티 마다 다르기 때문에 크롤링한 텍스트를 보고 사전에 파악하는 것이 좋다"
   ]
  },
  {
   "cell_type": "code",
   "execution_count": 17,
   "id": "1c9803f0",
   "metadata": {
    "id": "1c9803f0",
    "outputId": "a5386554-563f-4f30-a9de-659ed84dd768"
   },
   "outputs": [],
   "source": [
    "# 따옴표 안에 삭제할 문구를 복사해서 붙여넣기 해준다.\n",
    "\n",
    "df_doc = df_doc.str.replace(\"편의점 운영 노하우 일기\",\"\")\n",
    "df_doc = df_doc.str.replace(\"하루 3가지 편의점 일기\",\"\")\n",
    "df_doc = df_doc.str.replace(\"아싸카페에서 인정받은 유일한 마케팅회사 http://www.reviewnote.kr\",\"\")\n"
   ]
  },
  {
   "cell_type": "code",
   "execution_count": 18,
   "id": "ef4a7acc",
   "metadata": {
    "id": "ef4a7acc",
    "outputId": "7744d2a0-cee0-4cc4-98ef-5c60b80cdb1b"
   },
   "outputs": [
    {
     "data": {
      "text/plain": [
       "0        편의점 마트 전기세 두배이상 올랐나요?? 기존에 가져가는것도 얼마 안되는데 마이너스...\n",
       "1        5월 종합소득세 신고에서요 제가 사업자 신용카드로 발급 받아서 돈 쓴것도 지출 증빙...\n",
       "2        사장님들 저가 sns로 소매로 판매하고있는데용 저가 초보라 잘몰라용 가루쳐주세요 ㅜ...\n",
       "3        가게 오픈했습니다. 저랑 신랑이랑 둘이 할껀데요.. 작은 과일가게요.. 세무사기장료...\n",
       "4        편의점 새내기입니다 선배님들께 여쭤봅니다!  이달25일부터 c사 편의점 인수예정인데...\n",
       "                               ...                        \n",
       "12353    팔기싫은 손님 ㅠ 저는 소매업을 하고 있습니다 이제 장사를 좀 해서 그런지 촉이와요...\n",
       "12354    담배반품 언제까지 받아주시나요? 구매한지 한달넘은 담배 들고와서 반품하겠다고 하네요...\n",
       "12355    반품 할 것들은요 그냥 상온박스에 담아두면 되는건가요? 오셔서 일일이 체크하시려면 ...\n",
       "12356    유통기한지난식품판매 안녕하세요~ 몇일전 부주의로 유통기한이 지난 라면2개를 팔게 되...\n",
       "12357    편돌이사장님 질문보고 저도 퇴근전 문득 질문이요~ 이제 3년차 접어들은 소형슈퍼 새...\n",
       "Name: review, Length: 12358, dtype: object"
      ]
     },
     "execution_count": 18,
     "metadata": {},
     "output_type": "execute_result"
    }
   ],
   "source": [
    "df_doc"
   ]
  },
  {
   "cell_type": "markdown",
   "id": "0102500f",
   "metadata": {
    "id": "0102500f"
   },
   "source": [
    "### 텍스트 전처리\n",
    "- 분석가의 판단 하에 문장부호, 특수문자, 숫자, 영어, 이모티콘 등 삭제"
   ]
  },
  {
   "cell_type": "code",
   "execution_count": 19,
   "id": "41d476ed",
   "metadata": {
    "id": "41d476ed",
    "outputId": "29300a8a-193b-4c5e-823b-e3a8c702a416"
   },
   "outputs": [],
   "source": [
    "df_doc = df_doc.str.replace(\"[0-9]+갤\",\"개월\") # ex.8갤->개월(맞춤법 검사 시 교정 안 됌)\n",
    "df_doc = df_doc.str.replace(\"[^가-힣 ]\",\" \") # 한글만 남기고 특수문자, 숫자, 영어 삭제\n",
    "df_doc = df_doc.str.replace(\"\\s+\", \" \") # white space 제거"
   ]
  },
  {
   "cell_type": "code",
   "execution_count": 20,
   "id": "68d74fcf",
   "metadata": {
    "id": "68d74fcf",
    "outputId": "212f4b9d-14b2-42e6-a5ad-e99d8fb87c12",
    "scrolled": true
   },
   "outputs": [
    {
     "data": {
      "text/plain": [
       "0        편의점 마트 전기세 두배이상 올랐나요?? 기존에 가져가는것도 얼마 안되는데 마이너스...\n",
       "1        5월 종합소득세 신고에서요 제가 사업자 신용카드로 발급 받아서 돈 쓴것도 지출 증빙...\n",
       "2        사장님들 저가 sns로 소매로 판매하고있는데용 저가 초보라 잘몰라용 가루쳐주세요 ㅜ...\n",
       "3        가게 오픈했습니다. 저랑 신랑이랑 둘이 할껀데요.. 작은 과일가게요.. 세무사기장료...\n",
       "4        편의점 새내기입니다 선배님들께 여쭤봅니다!  이달25일부터 c사 편의점 인수예정인데...\n",
       "                               ...                        \n",
       "12353    팔기싫은 손님 ㅠ 저는 소매업을 하고 있습니다 이제 장사를 좀 해서 그런지 촉이와요...\n",
       "12354    담배반품 언제까지 받아주시나요? 구매한지 한달넘은 담배 들고와서 반품하겠다고 하네요...\n",
       "12355    반품 할 것들은요 그냥 상온박스에 담아두면 되는건가요? 오셔서 일일이 체크하시려면 ...\n",
       "12356    유통기한지난식품판매 안녕하세요~ 몇일전 부주의로 유통기한이 지난 라면2개를 팔게 되...\n",
       "12357    편돌이사장님 질문보고 저도 퇴근전 문득 질문이요~ 이제 3년차 접어들은 소형슈퍼 새...\n",
       "Name: review, Length: 12358, dtype: object"
      ]
     },
     "execution_count": 20,
     "metadata": {},
     "output_type": "execute_result"
    }
   ],
   "source": [
    "df_doc"
   ]
  },
  {
   "cell_type": "code",
   "execution_count": 21,
   "id": "311cce82",
   "metadata": {
    "id": "311cce82"
   },
   "outputs": [],
   "source": [
    "doc = pd.DataFrame(df_doc) # 위에서 전처리한 것을 dataframe으로 변환시켜 준다."
   ]
  },
  {
   "cell_type": "code",
   "execution_count": 22,
   "id": "968885d7",
   "metadata": {
    "id": "968885d7",
    "outputId": "e4e498aa-167e-4164-96ba-92ec5d54abe5"
   },
   "outputs": [
    {
     "data": {
      "text/html": [
       "<div>\n",
       "<style scoped>\n",
       "    .dataframe tbody tr th:only-of-type {\n",
       "        vertical-align: middle;\n",
       "    }\n",
       "\n",
       "    .dataframe tbody tr th {\n",
       "        vertical-align: top;\n",
       "    }\n",
       "\n",
       "    .dataframe thead th {\n",
       "        text-align: right;\n",
       "    }\n",
       "</style>\n",
       "<table border=\"1\" class=\"dataframe\">\n",
       "  <thead>\n",
       "    <tr style=\"text-align: right;\">\n",
       "      <th></th>\n",
       "      <th>review</th>\n",
       "    </tr>\n",
       "  </thead>\n",
       "  <tbody>\n",
       "    <tr>\n",
       "      <th>0</th>\n",
       "      <td>편의점 마트 전기세 두배이상 올랐나요?? 기존에 가져가는것도 얼마 안되는데 마이너스...</td>\n",
       "    </tr>\n",
       "    <tr>\n",
       "      <th>1</th>\n",
       "      <td>5월 종합소득세 신고에서요 제가 사업자 신용카드로 발급 받아서 돈 쓴것도 지출 증빙...</td>\n",
       "    </tr>\n",
       "    <tr>\n",
       "      <th>2</th>\n",
       "      <td>사장님들 저가 sns로 소매로 판매하고있는데용 저가 초보라 잘몰라용 가루쳐주세요 ㅜ...</td>\n",
       "    </tr>\n",
       "    <tr>\n",
       "      <th>3</th>\n",
       "      <td>가게 오픈했습니다. 저랑 신랑이랑 둘이 할껀데요.. 작은 과일가게요.. 세무사기장료...</td>\n",
       "    </tr>\n",
       "    <tr>\n",
       "      <th>4</th>\n",
       "      <td>편의점 새내기입니다 선배님들께 여쭤봅니다!  이달25일부터 c사 편의점 인수예정인데...</td>\n",
       "    </tr>\n",
       "    <tr>\n",
       "      <th>...</th>\n",
       "      <td>...</td>\n",
       "    </tr>\n",
       "    <tr>\n",
       "      <th>12353</th>\n",
       "      <td>팔기싫은 손님 ㅠ 저는 소매업을 하고 있습니다 이제 장사를 좀 해서 그런지 촉이와요...</td>\n",
       "    </tr>\n",
       "    <tr>\n",
       "      <th>12354</th>\n",
       "      <td>담배반품 언제까지 받아주시나요? 구매한지 한달넘은 담배 들고와서 반품하겠다고 하네요...</td>\n",
       "    </tr>\n",
       "    <tr>\n",
       "      <th>12355</th>\n",
       "      <td>반품 할 것들은요 그냥 상온박스에 담아두면 되는건가요? 오셔서 일일이 체크하시려면 ...</td>\n",
       "    </tr>\n",
       "    <tr>\n",
       "      <th>12356</th>\n",
       "      <td>유통기한지난식품판매 안녕하세요~ 몇일전 부주의로 유통기한이 지난 라면2개를 팔게 되...</td>\n",
       "    </tr>\n",
       "    <tr>\n",
       "      <th>12357</th>\n",
       "      <td>편돌이사장님 질문보고 저도 퇴근전 문득 질문이요~ 이제 3년차 접어들은 소형슈퍼 새...</td>\n",
       "    </tr>\n",
       "  </tbody>\n",
       "</table>\n",
       "<p>12358 rows × 1 columns</p>\n",
       "</div>"
      ],
      "text/plain": [
       "                                                  review\n",
       "0      편의점 마트 전기세 두배이상 올랐나요?? 기존에 가져가는것도 얼마 안되는데 마이너스...\n",
       "1      5월 종합소득세 신고에서요 제가 사업자 신용카드로 발급 받아서 돈 쓴것도 지출 증빙...\n",
       "2      사장님들 저가 sns로 소매로 판매하고있는데용 저가 초보라 잘몰라용 가루쳐주세요 ㅜ...\n",
       "3      가게 오픈했습니다. 저랑 신랑이랑 둘이 할껀데요.. 작은 과일가게요.. 세무사기장료...\n",
       "4      편의점 새내기입니다 선배님들께 여쭤봅니다!  이달25일부터 c사 편의점 인수예정인데...\n",
       "...                                                  ...\n",
       "12353  팔기싫은 손님 ㅠ 저는 소매업을 하고 있습니다 이제 장사를 좀 해서 그런지 촉이와요...\n",
       "12354  담배반품 언제까지 받아주시나요? 구매한지 한달넘은 담배 들고와서 반품하겠다고 하네요...\n",
       "12355  반품 할 것들은요 그냥 상온박스에 담아두면 되는건가요? 오셔서 일일이 체크하시려면 ...\n",
       "12356  유통기한지난식품판매 안녕하세요~ 몇일전 부주의로 유통기한이 지난 라면2개를 팔게 되...\n",
       "12357  편돌이사장님 질문보고 저도 퇴근전 문득 질문이요~ 이제 3년차 접어들은 소형슈퍼 새...\n",
       "\n",
       "[12358 rows x 1 columns]"
      ]
     },
     "execution_count": 22,
     "metadata": {},
     "output_type": "execute_result"
    }
   ],
   "source": [
    "doc"
   ]
  },
  {
   "cell_type": "markdown",
   "id": "30bdd2ba",
   "metadata": {
    "id": "30bdd2ba"
   },
   "source": [
    "### 띄어쓰기 처리"
   ]
  },
  {
   "cell_type": "code",
   "execution_count": 23,
   "id": "285b7eda",
   "metadata": {
    "id": "285b7eda"
   },
   "outputs": [],
   "source": [
    "def re_spacing(text):\n",
    "    result = text.strip()\n",
    "    while \"  \" in result:\n",
    "        result = result.replace(\"  \", \" \")\n",
    "    return result"
   ]
  },
  {
   "cell_type": "code",
   "execution_count": null,
   "id": "e54b5b82",
   "metadata": {
    "id": "e54b5b82",
    "scrolled": true
   },
   "outputs": [],
   "source": [
    "doc['review'] = doc['review'].apply(lambda x : re_spacing(x))"
   ]
  },
  {
   "cell_type": "code",
   "execution_count": 27,
   "id": "b0ee6c86",
   "metadata": {
    "id": "b0ee6c86",
    "outputId": "bc564ee9-e30a-4185-ac5d-a40347a5209a",
    "scrolled": false
   },
   "outputs": [
    {
     "data": {
      "text/html": [
       "<div>\n",
       "<style scoped>\n",
       "    .dataframe tbody tr th:only-of-type {\n",
       "        vertical-align: middle;\n",
       "    }\n",
       "\n",
       "    .dataframe tbody tr th {\n",
       "        vertical-align: top;\n",
       "    }\n",
       "\n",
       "    .dataframe thead th {\n",
       "        text-align: right;\n",
       "    }\n",
       "</style>\n",
       "<table border=\"1\" class=\"dataframe\">\n",
       "  <thead>\n",
       "    <tr style=\"text-align: right;\">\n",
       "      <th></th>\n",
       "      <th>review</th>\n",
       "    </tr>\n",
       "  </thead>\n",
       "  <tbody>\n",
       "    <tr>\n",
       "      <th>0</th>\n",
       "      <td>편의점 마트 전기세 두배이상 올랐나요?? 기존에 가져가는것도 얼마 안되는데 마이너스...</td>\n",
       "    </tr>\n",
       "    <tr>\n",
       "      <th>1</th>\n",
       "      <td>5월 종합소득세 신고에서요 제가 사업자 신용카드로 발급 받아서 돈 쓴것도 지출 증빙...</td>\n",
       "    </tr>\n",
       "    <tr>\n",
       "      <th>2</th>\n",
       "      <td>사장님들 저가 sns로 소매로 판매하고있는데용 저가 초보라 잘몰라용 가루쳐주세요 ㅜ...</td>\n",
       "    </tr>\n",
       "    <tr>\n",
       "      <th>3</th>\n",
       "      <td>가게 오픈했습니다. 저랑 신랑이랑 둘이 할껀데요.. 작은 과일가게요.. 세무사기장료...</td>\n",
       "    </tr>\n",
       "    <tr>\n",
       "      <th>4</th>\n",
       "      <td>편의점 새내기입니다 선배님들께 여쭤봅니다!  이달25일부터 c사 편의점 인수예정인데...</td>\n",
       "    </tr>\n",
       "    <tr>\n",
       "      <th>...</th>\n",
       "      <td>...</td>\n",
       "    </tr>\n",
       "    <tr>\n",
       "      <th>12353</th>\n",
       "      <td>팔기싫은 손님 ㅠ 저는 소매업을 하고 있습니다 이제 장사를 좀 해서 그런지 촉이와요...</td>\n",
       "    </tr>\n",
       "    <tr>\n",
       "      <th>12354</th>\n",
       "      <td>담배반품 언제까지 받아주시나요? 구매한지 한달넘은 담배 들고와서 반품하겠다고 하네요...</td>\n",
       "    </tr>\n",
       "    <tr>\n",
       "      <th>12355</th>\n",
       "      <td>반품 할 것들은요 그냥 상온박스에 담아두면 되는건가요? 오셔서 일일이 체크하시려면 ...</td>\n",
       "    </tr>\n",
       "    <tr>\n",
       "      <th>12356</th>\n",
       "      <td>유통기한지난식품판매 안녕하세요~ 몇일전 부주의로 유통기한이 지난 라면2개를 팔게 되...</td>\n",
       "    </tr>\n",
       "    <tr>\n",
       "      <th>12357</th>\n",
       "      <td>편돌이사장님 질문보고 저도 퇴근전 문득 질문이요~ 이제 3년차 접어들은 소형슈퍼 새...</td>\n",
       "    </tr>\n",
       "  </tbody>\n",
       "</table>\n",
       "<p>12358 rows × 1 columns</p>\n",
       "</div>"
      ],
      "text/plain": [
       "                                                  review\n",
       "0      편의점 마트 전기세 두배이상 올랐나요?? 기존에 가져가는것도 얼마 안되는데 마이너스...\n",
       "1      5월 종합소득세 신고에서요 제가 사업자 신용카드로 발급 받아서 돈 쓴것도 지출 증빙...\n",
       "2      사장님들 저가 sns로 소매로 판매하고있는데용 저가 초보라 잘몰라용 가루쳐주세요 ㅜ...\n",
       "3      가게 오픈했습니다. 저랑 신랑이랑 둘이 할껀데요.. 작은 과일가게요.. 세무사기장료...\n",
       "4      편의점 새내기입니다 선배님들께 여쭤봅니다!  이달25일부터 c사 편의점 인수예정인데...\n",
       "...                                                  ...\n",
       "12353  팔기싫은 손님 ㅠ 저는 소매업을 하고 있습니다 이제 장사를 좀 해서 그런지 촉이와요...\n",
       "12354  담배반품 언제까지 받아주시나요? 구매한지 한달넘은 담배 들고와서 반품하겠다고 하네요...\n",
       "12355  반품 할 것들은요 그냥 상온박스에 담아두면 되는건가요? 오셔서 일일이 체크하시려면 ...\n",
       "12356  유통기한지난식품판매 안녕하세요~ 몇일전 부주의로 유통기한이 지난 라면2개를 팔게 되...\n",
       "12357  편돌이사장님 질문보고 저도 퇴근전 문득 질문이요~ 이제 3년차 접어들은 소형슈퍼 새...\n",
       "\n",
       "[12358 rows x 1 columns]"
      ]
     },
     "execution_count": 27,
     "metadata": {},
     "output_type": "execute_result"
    }
   ],
   "source": [
    "doc\n",
    "doc.reset_index(drop=True)"
   ]
  },
  {
   "cell_type": "markdown",
   "id": "284eaa3a",
   "metadata": {
    "id": "284eaa3a"
   },
   "source": [
    "## CSV 파일로 저장"
   ]
  },
  {
   "cell_type": "code",
   "execution_count": null,
   "id": "ac436147",
   "metadata": {
    "id": "ac436147"
   },
   "outputs": [],
   "source": [
    "doc.to_csv('[KB]아싸_전처리_final.csv', encoding='utf-8-sig')"
   ]
  },
  {
   "cell_type": "code",
   "execution_count": null,
   "id": "76180c36",
   "metadata": {
    "id": "76180c36",
    "outputId": "6433fabe-60de-4d1f-84dd-c0105f720df1"
   },
   "outputs": [
    {
     "data": {
      "text/html": [
       "<div>\n",
       "<style scoped>\n",
       "    .dataframe tbody tr th:only-of-type {\n",
       "        vertical-align: middle;\n",
       "    }\n",
       "\n",
       "    .dataframe tbody tr th {\n",
       "        vertical-align: top;\n",
       "    }\n",
       "\n",
       "    .dataframe thead th {\n",
       "        text-align: right;\n",
       "    }\n",
       "</style>\n",
       "<table border=\"1\" class=\"dataframe\">\n",
       "  <thead>\n",
       "    <tr style=\"text-align: right;\">\n",
       "      <th></th>\n",
       "      <th>review</th>\n",
       "    </tr>\n",
       "  </thead>\n",
       "  <tbody>\n",
       "    <tr>\n",
       "      <th>0</th>\n",
       "      <td>리모델링부터 시작한 신혼집 랜선집들이 저희는 구축 아파트를 매매해서 신혼집을 마련하...</td>\n",
       "    </tr>\n",
       "    <tr>\n",
       "      <th>1</th>\n",
       "      <td>행복한 고민 끝 결정했어요 네 가구가 가장 고민이 많았습니다 벽지 고를때 가장 힘든...</td>\n",
       "    </tr>\n",
       "    <tr>\n",
       "      <th>2</th>\n",
       "      <td>둘이아닌 셋 이제 셋이되고 달라진 저희집 거실과 침실 거실은 매트시공을 한상태로 나...</td>\n",
       "    </tr>\n",
       "    <tr>\n",
       "      <th>3</th>\n",
       "      <td>신혼집랜선집들이 저희 집을 소개합니다 결혼하고 이것저것 정리하고 거기에다 일하고 청...</td>\n",
       "    </tr>\n",
       "    <tr>\n",
       "      <th>4</th>\n",
       "      <td>베이지 취향 가득 오브제 정수기 소개합니다 저는 입주전 월에 전자에서 가전 세트로 ...</td>\n",
       "    </tr>\n",
       "    <tr>\n",
       "      <th>...</th>\n",
       "      <td>...</td>\n",
       "    </tr>\n",
       "    <tr>\n",
       "      <th>16180</th>\n",
       "      <td>인테리어 전후 홈씨씨인테리어에서했어요 날씨가 많이 추운데 예신님들 감기 조심하세요 ...</td>\n",
       "    </tr>\n",
       "    <tr>\n",
       "      <th>16181</th>\n",
       "      <td>햅삐한 노루네 신혼집 랜선집들이 초대합니다 신축 아파트 평 저희는 설 지나자마자 결...</td>\n",
       "    </tr>\n",
       "    <tr>\n",
       "      <th>16182</th>\n",
       "      <td>신혼집 인테리어 후기 입니다 저는 월말에 신혼집 오피스텔 에 먼저 입주해서 살고 있...</td>\n",
       "    </tr>\n",
       "    <tr>\n",
       "      <th>16183</th>\n",
       "      <td>아버지 친구분 수원 제일인테리어 께 시공받은 인테리어 후기 한샘 인테리어 후기 올려...</td>\n",
       "    </tr>\n",
       "    <tr>\n",
       "      <th>16184</th>\n",
       "      <td>핸슨소파 펫 바사클린 소파 대망의 수령 후기 위 사진은 매장에서 찍은 사진인데 라모...</td>\n",
       "    </tr>\n",
       "  </tbody>\n",
       "</table>\n",
       "<p>16185 rows × 1 columns</p>\n",
       "</div>"
      ],
      "text/plain": [
       "                                                  review\n",
       "0      리모델링부터 시작한 신혼집 랜선집들이 저희는 구축 아파트를 매매해서 신혼집을 마련하...\n",
       "1      행복한 고민 끝 결정했어요 네 가구가 가장 고민이 많았습니다 벽지 고를때 가장 힘든...\n",
       "2      둘이아닌 셋 이제 셋이되고 달라진 저희집 거실과 침실 거실은 매트시공을 한상태로 나...\n",
       "3      신혼집랜선집들이 저희 집을 소개합니다 결혼하고 이것저것 정리하고 거기에다 일하고 청...\n",
       "4      베이지 취향 가득 오브제 정수기 소개합니다 저는 입주전 월에 전자에서 가전 세트로 ...\n",
       "...                                                  ...\n",
       "16180  인테리어 전후 홈씨씨인테리어에서했어요 날씨가 많이 추운데 예신님들 감기 조심하세요 ...\n",
       "16181  햅삐한 노루네 신혼집 랜선집들이 초대합니다 신축 아파트 평 저희는 설 지나자마자 결...\n",
       "16182  신혼집 인테리어 후기 입니다 저는 월말에 신혼집 오피스텔 에 먼저 입주해서 살고 있...\n",
       "16183  아버지 친구분 수원 제일인테리어 께 시공받은 인테리어 후기 한샘 인테리어 후기 올려...\n",
       "16184  핸슨소파 펫 바사클린 소파 대망의 수령 후기 위 사진은 매장에서 찍은 사진인데 라모...\n",
       "\n",
       "[16185 rows x 1 columns]"
      ]
     },
     "execution_count": 30,
     "metadata": {},
     "output_type": "execute_result"
    }
   ],
   "source": [
    "doc"
   ]
  },
  {
   "cell_type": "code",
   "execution_count": null,
   "id": "4079184b",
   "metadata": {
    "id": "4079184b"
   },
   "outputs": [],
   "source": []
  }
 ],
 "metadata": {
  "colab": {
   "provenance": []
  },
  "kernelspec": {
   "display_name": "Python 3 (ipykernel)",
   "language": "python",
   "name": "python3"
  },
  "language_info": {
   "codemirror_mode": {
    "name": "ipython",
    "version": 3
   },
   "file_extension": ".py",
   "mimetype": "text/x-python",
   "name": "python",
   "nbconvert_exporter": "python",
   "pygments_lexer": "ipython3",
   "version": "3.11.5"
  }
 },
 "nbformat": 4,
 "nbformat_minor": 5
}
